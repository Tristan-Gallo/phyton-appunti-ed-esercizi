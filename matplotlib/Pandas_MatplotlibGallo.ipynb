{
  "nbformat": 4,
  "nbformat_minor": 0,
  "metadata": {
    "colab": {
      "name": "Pandas/MatplotlibGallo.ipynb",
      "provenance": [],
      "collapsed_sections": []
    },
    "kernelspec": {
      "name": "python3",
      "display_name": "Python 3"
    },
    "language_info": {
      "name": "python"
    }
  },
  "cells": [
    {
      "cell_type": "markdown",
      "metadata": {
        "id": "ZW7KlUfgkJ5v"
      },
      "source": [
        "\\1. Crei un dataframe Pandas contenente le informazioni presenti nella collection"
      ]
    },
    {
      "cell_type": "code",
      "metadata": {
        "id": "jDOJYboKgMqZ",
        "colab": {
          "base_uri": "https://localhost:8080/",
          "height": 423
        },
        "outputId": "55692221-9193-4b67-aea0-8fa70a1753f1"
      },
      "source": [
        "import pandas as pd \n",
        "import matplotlib.pyplot as plt\n",
        "import numpy as np\n",
        "url = 'https://raw.githubusercontent.com/wtitze/4E/main/ristoranti.csv'\n",
        "df = pd.read_csv(url)\n",
        "df"
      ],
      "execution_count": null,
      "outputs": [
        {
          "output_type": "execute_result",
          "data": {
            "text/html": [
              "<div>\n",
              "<style scoped>\n",
              "    .dataframe tbody tr th:only-of-type {\n",
              "        vertical-align: middle;\n",
              "    }\n",
              "\n",
              "    .dataframe tbody tr th {\n",
              "        vertical-align: top;\n",
              "    }\n",
              "\n",
              "    .dataframe thead th {\n",
              "        text-align: right;\n",
              "    }\n",
              "</style>\n",
              "<table border=\"1\" class=\"dataframe\">\n",
              "  <thead>\n",
              "    <tr style=\"text-align: right;\">\n",
              "      <th></th>\n",
              "      <th>N</th>\n",
              "      <th>address</th>\n",
              "      <th>borough</th>\n",
              "      <th>cuisine</th>\n",
              "      <th>grades</th>\n",
              "      <th>name</th>\n",
              "      <th>restaurant_id</th>\n",
              "    </tr>\n",
              "  </thead>\n",
              "  <tbody>\n",
              "    <tr>\n",
              "      <th>0</th>\n",
              "      <td>0</td>\n",
              "      <td>{'building': '8825', 'coord': [-73.8803827, 40...</td>\n",
              "      <td>Queens</td>\n",
              "      <td>American</td>\n",
              "      <td>[{'date': datetime.datetime(2014, 11, 15, 0, 0...</td>\n",
              "      <td>Brunos On The Boulevard</td>\n",
              "      <td>40356151</td>\n",
              "    </tr>\n",
              "    <tr>\n",
              "      <th>1</th>\n",
              "      <td>1</td>\n",
              "      <td>{'building': '156-71', 'coord': [-73.840437, 4...</td>\n",
              "      <td>Queens</td>\n",
              "      <td>Pizza/Italian</td>\n",
              "      <td>[{'date': datetime.datetime(2014, 10, 29, 0, 0...</td>\n",
              "      <td>New Park Pizzeria &amp; Restaurant</td>\n",
              "      <td>40364744</td>\n",
              "    </tr>\n",
              "    <tr>\n",
              "      <th>2</th>\n",
              "      <td>2</td>\n",
              "      <td>{'building': '6409', 'coord': [-74.00528899999...</td>\n",
              "      <td>Brooklyn</td>\n",
              "      <td>American</td>\n",
              "      <td>[{'date': datetime.datetime(2014, 7, 18, 0, 0)...</td>\n",
              "      <td>Regina Caterers</td>\n",
              "      <td>40356649</td>\n",
              "    </tr>\n",
              "    <tr>\n",
              "      <th>3</th>\n",
              "      <td>3</td>\n",
              "      <td>{'building': '2491', 'coord': [-74.1459332, 40...</td>\n",
              "      <td>Staten Island</td>\n",
              "      <td>Delicatessen</td>\n",
              "      <td>[{'date': datetime.datetime(2015, 1, 9, 0, 0),...</td>\n",
              "      <td>Bagels N Buns</td>\n",
              "      <td>40363427</td>\n",
              "    </tr>\n",
              "    <tr>\n",
              "      <th>4</th>\n",
              "      <td>4</td>\n",
              "      <td>{'building': '56', 'coord': [-74.004758, 40.74...</td>\n",
              "      <td>Manhattan</td>\n",
              "      <td>American</td>\n",
              "      <td>[{'date': datetime.datetime(2014, 6, 10, 0, 0)...</td>\n",
              "      <td>Old Homestead</td>\n",
              "      <td>40364715</td>\n",
              "    </tr>\n",
              "    <tr>\n",
              "      <th>...</th>\n",
              "      <td>...</td>\n",
              "      <td>...</td>\n",
              "      <td>...</td>\n",
              "      <td>...</td>\n",
              "      <td>...</td>\n",
              "      <td>...</td>\n",
              "      <td>...</td>\n",
              "    </tr>\n",
              "    <tr>\n",
              "      <th>25354</th>\n",
              "      <td>25354</td>\n",
              "      <td>{'building': 'ONE', 'coord': [-81.664363600000...</td>\n",
              "      <td>Queens</td>\n",
              "      <td>Other</td>\n",
              "      <td>[]</td>\n",
              "      <td>Camden Food Express</td>\n",
              "      <td>50018316</td>\n",
              "    </tr>\n",
              "    <tr>\n",
              "      <th>25355</th>\n",
              "      <td>25355</td>\n",
              "      <td>{'building': '700', 'coord': [-73.988230600000...</td>\n",
              "      <td>Manhattan</td>\n",
              "      <td>Other</td>\n",
              "      <td>[]</td>\n",
              "      <td>Wooly'S Nyc</td>\n",
              "      <td>50018495</td>\n",
              "    </tr>\n",
              "    <tr>\n",
              "      <th>25356</th>\n",
              "      <td>25356</td>\n",
              "      <td>{'building': '2144', 'coord': [-73.9552561, 40...</td>\n",
              "      <td>Manhattan</td>\n",
              "      <td>Other</td>\n",
              "      <td>[]</td>\n",
              "      <td>Rafi 786</td>\n",
              "      <td>50018553</td>\n",
              "    </tr>\n",
              "    <tr>\n",
              "      <th>25357</th>\n",
              "      <td>25357</td>\n",
              "      <td>{'building': '1448', 'coord': [-73.93032629999...</td>\n",
              "      <td>Brooklyn</td>\n",
              "      <td>Other</td>\n",
              "      <td>[]</td>\n",
              "      <td>NaN</td>\n",
              "      <td>50018721</td>\n",
              "    </tr>\n",
              "    <tr>\n",
              "      <th>25358</th>\n",
              "      <td>25358</td>\n",
              "      <td>{'building': '167', 'coord': [-73.9833565, 40....</td>\n",
              "      <td>Manhattan</td>\n",
              "      <td>Other</td>\n",
              "      <td>[]</td>\n",
              "      <td>Buttercup Bake Shop</td>\n",
              "      <td>50018710</td>\n",
              "    </tr>\n",
              "  </tbody>\n",
              "</table>\n",
              "<p>25359 rows × 7 columns</p>\n",
              "</div>"
            ],
            "text/plain": [
              "           N  ... restaurant_id\n",
              "0          0  ...      40356151\n",
              "1          1  ...      40364744\n",
              "2          2  ...      40356649\n",
              "3          3  ...      40363427\n",
              "4          4  ...      40364715\n",
              "...      ...  ...           ...\n",
              "25354  25354  ...      50018316\n",
              "25355  25355  ...      50018495\n",
              "25356  25356  ...      50018553\n",
              "25357  25357  ...      50018721\n",
              "25358  25358  ...      50018710\n",
              "\n",
              "[25359 rows x 7 columns]"
            ]
          },
          "metadata": {},
          "execution_count": 1
        }
      ]
    },
    {
      "cell_type": "markdown",
      "metadata": {
        "id": "NAO4KSp2kMvI"
      },
      "source": [
        "2. Elimini tutte le colonne ad esclusione di ‘borough’, ‘cuisine’ e ‘name’"
      ]
    },
    {
      "cell_type": "code",
      "metadata": {
        "colab": {
          "base_uri": "https://localhost:8080/",
          "height": 423
        },
        "id": "LNy5WmlfkME8",
        "outputId": "dff803aa-1d66-4c23-d59a-2ae6b728e7ad"
      },
      "source": [
        "df = df.drop(columns=['N','address','grades','restaurant_id'])\n",
        "df"
      ],
      "execution_count": null,
      "outputs": [
        {
          "output_type": "execute_result",
          "data": {
            "text/html": [
              "<div>\n",
              "<style scoped>\n",
              "    .dataframe tbody tr th:only-of-type {\n",
              "        vertical-align: middle;\n",
              "    }\n",
              "\n",
              "    .dataframe tbody tr th {\n",
              "        vertical-align: top;\n",
              "    }\n",
              "\n",
              "    .dataframe thead th {\n",
              "        text-align: right;\n",
              "    }\n",
              "</style>\n",
              "<table border=\"1\" class=\"dataframe\">\n",
              "  <thead>\n",
              "    <tr style=\"text-align: right;\">\n",
              "      <th></th>\n",
              "      <th>borough</th>\n",
              "      <th>cuisine</th>\n",
              "      <th>name</th>\n",
              "    </tr>\n",
              "  </thead>\n",
              "  <tbody>\n",
              "    <tr>\n",
              "      <th>0</th>\n",
              "      <td>Queens</td>\n",
              "      <td>American</td>\n",
              "      <td>Brunos On The Boulevard</td>\n",
              "    </tr>\n",
              "    <tr>\n",
              "      <th>1</th>\n",
              "      <td>Queens</td>\n",
              "      <td>Pizza/Italian</td>\n",
              "      <td>New Park Pizzeria &amp; Restaurant</td>\n",
              "    </tr>\n",
              "    <tr>\n",
              "      <th>2</th>\n",
              "      <td>Brooklyn</td>\n",
              "      <td>American</td>\n",
              "      <td>Regina Caterers</td>\n",
              "    </tr>\n",
              "    <tr>\n",
              "      <th>3</th>\n",
              "      <td>Staten Island</td>\n",
              "      <td>Delicatessen</td>\n",
              "      <td>Bagels N Buns</td>\n",
              "    </tr>\n",
              "    <tr>\n",
              "      <th>4</th>\n",
              "      <td>Manhattan</td>\n",
              "      <td>American</td>\n",
              "      <td>Old Homestead</td>\n",
              "    </tr>\n",
              "    <tr>\n",
              "      <th>...</th>\n",
              "      <td>...</td>\n",
              "      <td>...</td>\n",
              "      <td>...</td>\n",
              "    </tr>\n",
              "    <tr>\n",
              "      <th>25354</th>\n",
              "      <td>Queens</td>\n",
              "      <td>Other</td>\n",
              "      <td>Camden Food Express</td>\n",
              "    </tr>\n",
              "    <tr>\n",
              "      <th>25355</th>\n",
              "      <td>Manhattan</td>\n",
              "      <td>Other</td>\n",
              "      <td>Wooly'S Nyc</td>\n",
              "    </tr>\n",
              "    <tr>\n",
              "      <th>25356</th>\n",
              "      <td>Manhattan</td>\n",
              "      <td>Other</td>\n",
              "      <td>Rafi 786</td>\n",
              "    </tr>\n",
              "    <tr>\n",
              "      <th>25357</th>\n",
              "      <td>Brooklyn</td>\n",
              "      <td>Other</td>\n",
              "      <td>NaN</td>\n",
              "    </tr>\n",
              "    <tr>\n",
              "      <th>25358</th>\n",
              "      <td>Manhattan</td>\n",
              "      <td>Other</td>\n",
              "      <td>Buttercup Bake Shop</td>\n",
              "    </tr>\n",
              "  </tbody>\n",
              "</table>\n",
              "<p>25359 rows × 3 columns</p>\n",
              "</div>"
            ],
            "text/plain": [
              "             borough        cuisine                            name\n",
              "0             Queens       American         Brunos On The Boulevard\n",
              "1             Queens  Pizza/Italian  New Park Pizzeria & Restaurant\n",
              "2           Brooklyn       American                 Regina Caterers\n",
              "3      Staten Island   Delicatessen                   Bagels N Buns\n",
              "4          Manhattan       American                   Old Homestead\n",
              "...              ...            ...                             ...\n",
              "25354         Queens          Other             Camden Food Express\n",
              "25355      Manhattan          Other                    Wooly'S Nyc \n",
              "25356      Manhattan          Other                        Rafi 786\n",
              "25357       Brooklyn          Other                             NaN\n",
              "25358      Manhattan          Other             Buttercup Bake Shop\n",
              "\n",
              "[25359 rows x 3 columns]"
            ]
          },
          "metadata": {},
          "execution_count": 2
        }
      ]
    },
    {
      "cell_type": "markdown",
      "metadata": {
        "id": "i9NOSXJMkdg0"
      },
      "source": [
        "3. Conti il numero di ristoranti che hanno ‘Missing’ come quartiere"
      ]
    },
    {
      "cell_type": "code",
      "metadata": {
        "colab": {
          "base_uri": "https://localhost:8080/"
        },
        "id": "UxhyB9RBkeDB",
        "outputId": "6a3fbccf-6b5a-4e09-c513-ceb34f09d36e"
      },
      "source": [
        "df[df['borough'] == 'Missing'].count()"
      ],
      "execution_count": null,
      "outputs": [
        {
          "output_type": "execute_result",
          "data": {
            "text/plain": [
              "borough    51\n",
              "cuisine    51\n",
              "name       51\n",
              "dtype: int64"
            ]
          },
          "metadata": {},
          "execution_count": 3
        }
      ]
    },
    {
      "cell_type": "markdown",
      "metadata": {
        "id": "t41Z9bcqk1_I"
      },
      "source": [
        "4. Sostituisca alla parola ‘Missin’g il valore null"
      ]
    },
    {
      "cell_type": "code",
      "metadata": {
        "colab": {
          "base_uri": "https://localhost:8080/",
          "height": 423
        },
        "id": "vZWsXv2Jk3J2",
        "outputId": "e51c9fed-76e4-438e-9735-94e59c0cb1d3"
      },
      "source": [
        "df = df.replace('Missing',np.NaN)\n",
        "df"
      ],
      "execution_count": null,
      "outputs": [
        {
          "output_type": "execute_result",
          "data": {
            "text/html": [
              "<div>\n",
              "<style scoped>\n",
              "    .dataframe tbody tr th:only-of-type {\n",
              "        vertical-align: middle;\n",
              "    }\n",
              "\n",
              "    .dataframe tbody tr th {\n",
              "        vertical-align: top;\n",
              "    }\n",
              "\n",
              "    .dataframe thead th {\n",
              "        text-align: right;\n",
              "    }\n",
              "</style>\n",
              "<table border=\"1\" class=\"dataframe\">\n",
              "  <thead>\n",
              "    <tr style=\"text-align: right;\">\n",
              "      <th></th>\n",
              "      <th>borough</th>\n",
              "      <th>cuisine</th>\n",
              "      <th>name</th>\n",
              "    </tr>\n",
              "  </thead>\n",
              "  <tbody>\n",
              "    <tr>\n",
              "      <th>0</th>\n",
              "      <td>Queens</td>\n",
              "      <td>American</td>\n",
              "      <td>Brunos On The Boulevard</td>\n",
              "    </tr>\n",
              "    <tr>\n",
              "      <th>1</th>\n",
              "      <td>Queens</td>\n",
              "      <td>Pizza/Italian</td>\n",
              "      <td>New Park Pizzeria &amp; Restaurant</td>\n",
              "    </tr>\n",
              "    <tr>\n",
              "      <th>2</th>\n",
              "      <td>Brooklyn</td>\n",
              "      <td>American</td>\n",
              "      <td>Regina Caterers</td>\n",
              "    </tr>\n",
              "    <tr>\n",
              "      <th>3</th>\n",
              "      <td>Staten Island</td>\n",
              "      <td>Delicatessen</td>\n",
              "      <td>Bagels N Buns</td>\n",
              "    </tr>\n",
              "    <tr>\n",
              "      <th>4</th>\n",
              "      <td>Manhattan</td>\n",
              "      <td>American</td>\n",
              "      <td>Old Homestead</td>\n",
              "    </tr>\n",
              "    <tr>\n",
              "      <th>...</th>\n",
              "      <td>...</td>\n",
              "      <td>...</td>\n",
              "      <td>...</td>\n",
              "    </tr>\n",
              "    <tr>\n",
              "      <th>25354</th>\n",
              "      <td>Queens</td>\n",
              "      <td>Other</td>\n",
              "      <td>Camden Food Express</td>\n",
              "    </tr>\n",
              "    <tr>\n",
              "      <th>25355</th>\n",
              "      <td>Manhattan</td>\n",
              "      <td>Other</td>\n",
              "      <td>Wooly'S Nyc</td>\n",
              "    </tr>\n",
              "    <tr>\n",
              "      <th>25356</th>\n",
              "      <td>Manhattan</td>\n",
              "      <td>Other</td>\n",
              "      <td>Rafi 786</td>\n",
              "    </tr>\n",
              "    <tr>\n",
              "      <th>25357</th>\n",
              "      <td>Brooklyn</td>\n",
              "      <td>Other</td>\n",
              "      <td>NaN</td>\n",
              "    </tr>\n",
              "    <tr>\n",
              "      <th>25358</th>\n",
              "      <td>Manhattan</td>\n",
              "      <td>Other</td>\n",
              "      <td>Buttercup Bake Shop</td>\n",
              "    </tr>\n",
              "  </tbody>\n",
              "</table>\n",
              "<p>25359 rows × 3 columns</p>\n",
              "</div>"
            ],
            "text/plain": [
              "             borough        cuisine                            name\n",
              "0             Queens       American         Brunos On The Boulevard\n",
              "1             Queens  Pizza/Italian  New Park Pizzeria & Restaurant\n",
              "2           Brooklyn       American                 Regina Caterers\n",
              "3      Staten Island   Delicatessen                   Bagels N Buns\n",
              "4          Manhattan       American                   Old Homestead\n",
              "...              ...            ...                             ...\n",
              "25354         Queens          Other             Camden Food Express\n",
              "25355      Manhattan          Other                    Wooly'S Nyc \n",
              "25356      Manhattan          Other                        Rafi 786\n",
              "25357       Brooklyn          Other                             NaN\n",
              "25358      Manhattan          Other             Buttercup Bake Shop\n",
              "\n",
              "[25359 rows x 3 columns]"
            ]
          },
          "metadata": {},
          "execution_count": 4
        }
      ]
    },
    {
      "cell_type": "markdown",
      "metadata": {
        "id": "9mKKkjTEk8yz"
      },
      "source": [
        "Elimini dal dataframe tutti i ristoranti di cui non si conosce il quartiere"
      ]
    },
    {
      "cell_type": "code",
      "metadata": {
        "colab": {
          "base_uri": "https://localhost:8080/",
          "height": 423
        },
        "id": "zmCVRL-kk_9T",
        "outputId": "66739236-659c-45b4-bea3-b9637b2ec810"
      },
      "source": [
        "df =df.drop(df[(df['borough'].isnull())].index)\n",
        "df"
      ],
      "execution_count": null,
      "outputs": [
        {
          "output_type": "execute_result",
          "data": {
            "text/html": [
              "<div>\n",
              "<style scoped>\n",
              "    .dataframe tbody tr th:only-of-type {\n",
              "        vertical-align: middle;\n",
              "    }\n",
              "\n",
              "    .dataframe tbody tr th {\n",
              "        vertical-align: top;\n",
              "    }\n",
              "\n",
              "    .dataframe thead th {\n",
              "        text-align: right;\n",
              "    }\n",
              "</style>\n",
              "<table border=\"1\" class=\"dataframe\">\n",
              "  <thead>\n",
              "    <tr style=\"text-align: right;\">\n",
              "      <th></th>\n",
              "      <th>borough</th>\n",
              "      <th>cuisine</th>\n",
              "      <th>name</th>\n",
              "    </tr>\n",
              "  </thead>\n",
              "  <tbody>\n",
              "    <tr>\n",
              "      <th>0</th>\n",
              "      <td>Queens</td>\n",
              "      <td>American</td>\n",
              "      <td>Brunos On The Boulevard</td>\n",
              "    </tr>\n",
              "    <tr>\n",
              "      <th>1</th>\n",
              "      <td>Queens</td>\n",
              "      <td>Pizza/Italian</td>\n",
              "      <td>New Park Pizzeria &amp; Restaurant</td>\n",
              "    </tr>\n",
              "    <tr>\n",
              "      <th>2</th>\n",
              "      <td>Brooklyn</td>\n",
              "      <td>American</td>\n",
              "      <td>Regina Caterers</td>\n",
              "    </tr>\n",
              "    <tr>\n",
              "      <th>3</th>\n",
              "      <td>Staten Island</td>\n",
              "      <td>Delicatessen</td>\n",
              "      <td>Bagels N Buns</td>\n",
              "    </tr>\n",
              "    <tr>\n",
              "      <th>4</th>\n",
              "      <td>Manhattan</td>\n",
              "      <td>American</td>\n",
              "      <td>Old Homestead</td>\n",
              "    </tr>\n",
              "    <tr>\n",
              "      <th>...</th>\n",
              "      <td>...</td>\n",
              "      <td>...</td>\n",
              "      <td>...</td>\n",
              "    </tr>\n",
              "    <tr>\n",
              "      <th>25354</th>\n",
              "      <td>Queens</td>\n",
              "      <td>Other</td>\n",
              "      <td>Camden Food Express</td>\n",
              "    </tr>\n",
              "    <tr>\n",
              "      <th>25355</th>\n",
              "      <td>Manhattan</td>\n",
              "      <td>Other</td>\n",
              "      <td>Wooly'S Nyc</td>\n",
              "    </tr>\n",
              "    <tr>\n",
              "      <th>25356</th>\n",
              "      <td>Manhattan</td>\n",
              "      <td>Other</td>\n",
              "      <td>Rafi 786</td>\n",
              "    </tr>\n",
              "    <tr>\n",
              "      <th>25357</th>\n",
              "      <td>Brooklyn</td>\n",
              "      <td>Other</td>\n",
              "      <td>NaN</td>\n",
              "    </tr>\n",
              "    <tr>\n",
              "      <th>25358</th>\n",
              "      <td>Manhattan</td>\n",
              "      <td>Other</td>\n",
              "      <td>Buttercup Bake Shop</td>\n",
              "    </tr>\n",
              "  </tbody>\n",
              "</table>\n",
              "<p>25308 rows × 3 columns</p>\n",
              "</div>"
            ],
            "text/plain": [
              "             borough        cuisine                            name\n",
              "0             Queens       American         Brunos On The Boulevard\n",
              "1             Queens  Pizza/Italian  New Park Pizzeria & Restaurant\n",
              "2           Brooklyn       American                 Regina Caterers\n",
              "3      Staten Island   Delicatessen                   Bagels N Buns\n",
              "4          Manhattan       American                   Old Homestead\n",
              "...              ...            ...                             ...\n",
              "25354         Queens          Other             Camden Food Express\n",
              "25355      Manhattan          Other                    Wooly'S Nyc \n",
              "25356      Manhattan          Other                        Rafi 786\n",
              "25357       Brooklyn          Other                             NaN\n",
              "25358      Manhattan          Other             Buttercup Bake Shop\n",
              "\n",
              "[25308 rows x 3 columns]"
            ]
          },
          "metadata": {},
          "execution_count": 5
        }
      ]
    },
    {
      "cell_type": "markdown",
      "metadata": {
        "id": "8EkoxonllCTl"
      },
      "source": [
        "Calcoli il numero di ristoranti per ogni cucina. Ordinare in ordine decrescente a partire dal tipo di cucina che ha più ristoranti"
      ]
    },
    {
      "cell_type": "code",
      "metadata": {
        "colab": {
          "base_uri": "https://localhost:8080/"
        },
        "id": "BF5qahLYlOgD",
        "outputId": "cefb391e-78c6-48d4-b48a-8b2aab48fa74"
      },
      "source": [
        "df.groupby('cuisine')['name'].count().sort_values(ascending=False)"
      ],
      "execution_count": null,
      "outputs": [
        {
          "output_type": "execute_result",
          "data": {
            "text/plain": [
              "cuisine\n",
              "American           6173\n",
              "Chinese            2412\n",
              "Café/Coffee/Tea    1210\n",
              "Pizza              1162\n",
              "Italian            1069\n",
              "                   ... \n",
              "Iranian               2\n",
              "Chilean               1\n",
              "Californian           1\n",
              "Polynesian            1\n",
              "Creole/Cajun          1\n",
              "Name: name, Length: 85, dtype: int64"
            ]
          },
          "metadata": {},
          "execution_count": 6
        }
      ]
    },
    {
      "cell_type": "markdown",
      "metadata": {
        "id": "clMFGXmTlU3Q"
      },
      "source": [
        "Visualizzi il tipo di cucina con più ristoranti"
      ]
    },
    {
      "cell_type": "code",
      "metadata": {
        "colab": {
          "base_uri": "https://localhost:8080/"
        },
        "id": "9eqV6XRXlVey",
        "outputId": "0259eaf3-3fd9-4bde-d7de-66f05a2f1d90"
      },
      "source": [
        "df.groupby('cuisine')['name'].count().sort_values(ascending=False).head(1)"
      ],
      "execution_count": null,
      "outputs": [
        {
          "output_type": "execute_result",
          "data": {
            "text/plain": [
              "cuisine\n",
              "American    6173\n",
              "Name: name, dtype: int64"
            ]
          },
          "metadata": {},
          "execution_count": 7
        }
      ]
    },
    {
      "cell_type": "markdown",
      "metadata": {
        "id": "bXhgq2MllYTp"
      },
      "source": [
        "8. Visualizzi un grafico a barre con i primi 10 tipi di cucina\n"
      ]
    },
    {
      "cell_type": "code",
      "metadata": {
        "colab": {
          "base_uri": "https://localhost:8080/",
          "height": 475
        },
        "id": "Y40ZncuplalO",
        "outputId": "1e45e380-536a-4c34-c46e-82c37ebfe709"
      },
      "source": [
        "df1 = df.groupby('cuisine', as_index=False)['name'].count().sort_values('name',ascending=False).head(10)\n",
        "fig = plt.figure()\n",
        "ax = plt.axes()\n",
        "ax.bar(df1['cuisine'],df1['name'].values)\n",
        "fig.autofmt_xdate(rotation=45)\n",
        "plt.show()"
      ],
      "execution_count": null,
      "outputs": [
        {
          "output_type": "display_data",
          "data": {
            "image/png": "[encoded data removed]",
            "text/plain": [
              "<Figure size 432x288 with 1 Axes>"
            ]
          },
          "metadata": {
            "needs_background": "light"
          }
        }
      ]
    },
    {
      "cell_type": "markdown",
      "metadata": {
        "id": "I9AOgK1-le1o"
      },
      "source": [
        "Calcoli il numero di ristoranti per ogni quartiere"
      ]
    },
    {
      "cell_type": "code",
      "metadata": {
        "colab": {
          "base_uri": "https://localhost:8080/"
        },
        "id": "3N122vZ9lfat",
        "outputId": "a60151b6-23c9-40e6-8df8-678a66b704d4"
      },
      "source": [
        "df.groupby('borough')['name'].count()"
      ],
      "execution_count": null,
      "outputs": [
        {
          "output_type": "execute_result",
          "data": {
            "text/plain": [
              "borough\n",
              "Bronx             2322\n",
              "Brooklyn          6046\n",
              "Manhattan        10211\n",
              "Queens            5615\n",
              "Staten Island      963\n",
              "Name: name, dtype: int64"
            ]
          },
          "metadata": {},
          "execution_count": 9
        }
      ]
    },
    {
      "cell_type": "markdown",
      "metadata": {
        "id": "qS79qg5OllVD"
      },
      "source": [
        "Visualizzi i dati precedenti in un grafico a torta"
      ]
    },
    {
      "cell_type": "code",
      "metadata": {
        "colab": {
          "base_uri": "https://localhost:8080/",
          "height": 247
        },
        "id": "4KdtpAVVllv9",
        "outputId": "719126a9-6e10-4615-917c-861608387237"
      },
      "source": [
        "df2 = df.groupby('borough', as_index=False)['name'].count().sort_values('name',ascending=False)\n",
        "fig = plt.figure()\n",
        "ax = plt.axes()\n",
        "ax.pie(df2['name'].values, labels=df2['borough'],autopct='%1.1f%%')\n",
        "plt.show()"
      ],
      "execution_count": null,
      "outputs": [
        {
          "output_type": "display_data",
          "data": {
            "image/png": "[encoded data removed]",
            "text/plain": [
              "<Figure size 432x288 with 1 Axes>"
            ]
          },
          "metadata": {}
        }
      ]
    },
    {
      "cell_type": "markdown",
      "metadata": {
        "id": "TLNweaXdlpwH"
      },
      "source": [
        "Visualizzi i due grafici affiancati. Dare titoli appropriati ad entrambi i grafici"
      ]
    },
    {
      "cell_type": "code",
      "metadata": {
        "colab": {
          "base_uri": "https://localhost:8080/",
          "height": 672
        },
        "id": "yP8g5bcSlt_-",
        "outputId": "f413b5d7-ab0c-4068-a944-7cf1a3e14cbc"
      },
      "source": [
        "fig, (ax1,ax2)= plt.subplots(1,2)\n",
        "\n",
        "fig.set_size_inches(15,8)\n",
        "ax1.bar(df1['cuisine'].head(10),df1['name'].head(10))\n",
        "fig.autofmt_xdate(rotation=45)\n",
        "ax2.pie(df2['name'], labels=df2['borough'],autopct='%1.1f%%')\n",
        "\n",
        "plt.show()"
      ],
      "execution_count": null,
      "outputs": [
        {
          "output_type": "display_data",
          "data": {
            "image/png": "[encoded data removed]",
            "text/plain": [
              "<Figure size 1080x576 with 2 Axes>"
            ]
          },
          "metadata": {
            "needs_background": "light"
          }
        }
      ]
    },
    {
      "cell_type": "markdown",
      "metadata": {
        "id": "2OejSEHTl0_R"
      },
      "source": [
        "Crei un nuovo dataframe sostituendo la parola 'non American' a tutti i tipi di cucina che non sono americani"
      ]
    },
    {
      "cell_type": "code",
      "metadata": {
        "colab": {
          "base_uri": "https://localhost:8080/",
          "height": 423
        },
        "id": "A_qOHGx9l2p1",
        "outputId": "16687e8a-9ce7-487d-e858-818c36bcea09"
      },
      "source": [
        "df3 = df\n",
        "df3['cuisine'][df3['cuisine'] != 'American'] = 'Non American'\n",
        "df3"
      ],
      "execution_count": null,
      "outputs": [
        {
          "output_type": "execute_result",
          "data": {
            "text/html": [
              "<div>\n",
              "<style scoped>\n",
              "    .dataframe tbody tr th:only-of-type {\n",
              "        vertical-align: middle;\n",
              "    }\n",
              "\n",
              "    .dataframe tbody tr th {\n",
              "        vertical-align: top;\n",
              "    }\n",
              "\n",
              "    .dataframe thead th {\n",
              "        text-align: right;\n",
              "    }\n",
              "</style>\n",
              "<table border=\"1\" class=\"dataframe\">\n",
              "  <thead>\n",
              "    <tr style=\"text-align: right;\">\n",
              "      <th></th>\n",
              "      <th>borough</th>\n",
              "      <th>cuisine</th>\n",
              "      <th>name</th>\n",
              "    </tr>\n",
              "  </thead>\n",
              "  <tbody>\n",
              "    <tr>\n",
              "      <th>0</th>\n",
              "      <td>Queens</td>\n",
              "      <td>American</td>\n",
              "      <td>Brunos On The Boulevard</td>\n",
              "    </tr>\n",
              "    <tr>\n",
              "      <th>1</th>\n",
              "      <td>Queens</td>\n",
              "      <td>Non American</td>\n",
              "      <td>New Park Pizzeria &amp; Restaurant</td>\n",
              "    </tr>\n",
              "    <tr>\n",
              "      <th>2</th>\n",
              "      <td>Brooklyn</td>\n",
              "      <td>American</td>\n",
              "      <td>Regina Caterers</td>\n",
              "    </tr>\n",
              "    <tr>\n",
              "      <th>3</th>\n",
              "      <td>Staten Island</td>\n",
              "      <td>Non American</td>\n",
              "      <td>Bagels N Buns</td>\n",
              "    </tr>\n",
              "    <tr>\n",
              "      <th>4</th>\n",
              "      <td>Manhattan</td>\n",
              "      <td>American</td>\n",
              "      <td>Old Homestead</td>\n",
              "    </tr>\n",
              "    <tr>\n",
              "      <th>...</th>\n",
              "      <td>...</td>\n",
              "      <td>...</td>\n",
              "      <td>...</td>\n",
              "    </tr>\n",
              "    <tr>\n",
              "      <th>25354</th>\n",
              "      <td>Queens</td>\n",
              "      <td>Non American</td>\n",
              "      <td>Camden Food Express</td>\n",
              "    </tr>\n",
              "    <tr>\n",
              "      <th>25355</th>\n",
              "      <td>Manhattan</td>\n",
              "      <td>Non American</td>\n",
              "      <td>Wooly'S Nyc</td>\n",
              "    </tr>\n",
              "    <tr>\n",
              "      <th>25356</th>\n",
              "      <td>Manhattan</td>\n",
              "      <td>Non American</td>\n",
              "      <td>Rafi 786</td>\n",
              "    </tr>\n",
              "    <tr>\n",
              "      <th>25357</th>\n",
              "      <td>Brooklyn</td>\n",
              "      <td>Non American</td>\n",
              "      <td>NaN</td>\n",
              "    </tr>\n",
              "    <tr>\n",
              "      <th>25358</th>\n",
              "      <td>Manhattan</td>\n",
              "      <td>Non American</td>\n",
              "      <td>Buttercup Bake Shop</td>\n",
              "    </tr>\n",
              "  </tbody>\n",
              "</table>\n",
              "<p>25308 rows × 3 columns</p>\n",
              "</div>"
            ],
            "text/plain": [
              "             borough       cuisine                            name\n",
              "0             Queens      American         Brunos On The Boulevard\n",
              "1             Queens  Non American  New Park Pizzeria & Restaurant\n",
              "2           Brooklyn      American                 Regina Caterers\n",
              "3      Staten Island  Non American                   Bagels N Buns\n",
              "4          Manhattan      American                   Old Homestead\n",
              "...              ...           ...                             ...\n",
              "25354         Queens  Non American             Camden Food Express\n",
              "25355      Manhattan  Non American                    Wooly'S Nyc \n",
              "25356      Manhattan  Non American                        Rafi 786\n",
              "25357       Brooklyn  Non American                             NaN\n",
              "25358      Manhattan  Non American             Buttercup Bake Shop\n",
              "\n",
              "[25308 rows x 3 columns]"
            ]
          },
          "metadata": {},
          "execution_count": 12
        }
      ]
    },
    {
      "cell_type": "markdown",
      "metadata": {
        "id": "BpS6Ptycl6S2"
      },
      "source": [
        "Visualizzi, per ogni quartiere, il numero di ristoranti di cucina americana e non americana. Il risultato deve essere il seguente:"
      ]
    },
    {
      "cell_type": "code",
      "metadata": {
        "colab": {
          "base_uri": "https://localhost:8080/"
        },
        "id": "8t6nCx3Hl6xA",
        "outputId": "faac15ad-dc71-41a2-f337-a1c2547f01df"
      },
      "source": [
        "df3 = df.groupby(['borough','cuisine'])['name'].count()\n",
        "df3"
      ],
      "execution_count": null,
      "outputs": [
        {
          "output_type": "execute_result",
          "data": {
            "text/plain": [
              "borough        cuisine     \n",
              "Bronx          American         411\n",
              "               Non American    1911\n",
              "Brooklyn       American        1273\n",
              "               Non American    4773\n",
              "Manhattan      American        3205\n",
              "               Non American    7006\n",
              "Queens         American        1040\n",
              "               Non American    4575\n",
              "Staten Island  American         244\n",
              "               Non American     719\n",
              "Name: name, dtype: int64"
            ]
          },
          "metadata": {},
          "execution_count": 13
        }
      ]
    },
    {
      "cell_type": "markdown",
      "metadata": {
        "id": "brqNmyBbl-0Y"
      },
      "source": [
        "Crei un nuovo dataframe che abbia una colonna che contiene i ristoranti di cucina americana e una colonna che contiene il numero di ristoranti che propongono cucine non americane. Il risultato deve essere il seguente:"
      ]
    },
    {
      "cell_type": "code",
      "metadata": {
        "colab": {
          "base_uri": "https://localhost:8080/",
          "height": 237
        },
        "id": "V-hUQAotl_d4",
        "outputId": "e904fe65-dc35-433d-f896-23289694da4e"
      },
      "source": [
        "df4 = df3.unstack()\n",
        "df4"
      ],
      "execution_count": null,
      "outputs": [
        {
          "output_type": "execute_result",
          "data": {
            "text/html": [
              "<div>\n",
              "<style scoped>\n",
              "    .dataframe tbody tr th:only-of-type {\n",
              "        vertical-align: middle;\n",
              "    }\n",
              "\n",
              "    .dataframe tbody tr th {\n",
              "        vertical-align: top;\n",
              "    }\n",
              "\n",
              "    .dataframe thead th {\n",
              "        text-align: right;\n",
              "    }\n",
              "</style>\n",
              "<table border=\"1\" class=\"dataframe\">\n",
              "  <thead>\n",
              "    <tr style=\"text-align: right;\">\n",
              "      <th>cuisine</th>\n",
              "      <th>American</th>\n",
              "      <th>Non American</th>\n",
              "    </tr>\n",
              "    <tr>\n",
              "      <th>borough</th>\n",
              "      <th></th>\n",
              "      <th></th>\n",
              "    </tr>\n",
              "  </thead>\n",
              "  <tbody>\n",
              "    <tr>\n",
              "      <th>Bronx</th>\n",
              "      <td>411</td>\n",
              "      <td>1911</td>\n",
              "    </tr>\n",
              "    <tr>\n",
              "      <th>Brooklyn</th>\n",
              "      <td>1273</td>\n",
              "      <td>4773</td>\n",
              "    </tr>\n",
              "    <tr>\n",
              "      <th>Manhattan</th>\n",
              "      <td>3205</td>\n",
              "      <td>7006</td>\n",
              "    </tr>\n",
              "    <tr>\n",
              "      <th>Queens</th>\n",
              "      <td>1040</td>\n",
              "      <td>4575</td>\n",
              "    </tr>\n",
              "    <tr>\n",
              "      <th>Staten Island</th>\n",
              "      <td>244</td>\n",
              "      <td>719</td>\n",
              "    </tr>\n",
              "  </tbody>\n",
              "</table>\n",
              "</div>"
            ],
            "text/plain": [
              "cuisine        American  Non American\n",
              "borough                              \n",
              "Bronx               411          1911\n",
              "Brooklyn           1273          4773\n",
              "Manhattan          3205          7006\n",
              "Queens             1040          4575\n",
              "Staten Island       244           719"
            ]
          },
          "metadata": {},
          "execution_count": 14
        }
      ]
    },
    {
      "cell_type": "markdown",
      "metadata": {
        "id": "58g3iXNHmDsG"
      },
      "source": [
        "Resetti l'indice in modo da avere le tre colonne necessarie per costruire un grafico a barre. Il risultato deve essere il seguente:"
      ]
    },
    {
      "cell_type": "code",
      "metadata": {
        "colab": {
          "base_uri": "https://localhost:8080/",
          "height": 206
        },
        "id": "ipfdsw8OmEIM",
        "outputId": "4344337b-0418-45cc-a4d8-1403a407fa0a"
      },
      "source": [
        "df5 = df4.reset_index()\n",
        "df5"
      ],
      "execution_count": null,
      "outputs": [
        {
          "output_type": "execute_result",
          "data": {
            "text/html": [
              "<div>\n",
              "<style scoped>\n",
              "    .dataframe tbody tr th:only-of-type {\n",
              "        vertical-align: middle;\n",
              "    }\n",
              "\n",
              "    .dataframe tbody tr th {\n",
              "        vertical-align: top;\n",
              "    }\n",
              "\n",
              "    .dataframe thead th {\n",
              "        text-align: right;\n",
              "    }\n",
              "</style>\n",
              "<table border=\"1\" class=\"dataframe\">\n",
              "  <thead>\n",
              "    <tr style=\"text-align: right;\">\n",
              "      <th>cuisine</th>\n",
              "      <th>borough</th>\n",
              "      <th>American</th>\n",
              "      <th>Non American</th>\n",
              "    </tr>\n",
              "  </thead>\n",
              "  <tbody>\n",
              "    <tr>\n",
              "      <th>0</th>\n",
              "      <td>Bronx</td>\n",
              "      <td>411</td>\n",
              "      <td>1911</td>\n",
              "    </tr>\n",
              "    <tr>\n",
              "      <th>1</th>\n",
              "      <td>Brooklyn</td>\n",
              "      <td>1273</td>\n",
              "      <td>4773</td>\n",
              "    </tr>\n",
              "    <tr>\n",
              "      <th>2</th>\n",
              "      <td>Manhattan</td>\n",
              "      <td>3205</td>\n",
              "      <td>7006</td>\n",
              "    </tr>\n",
              "    <tr>\n",
              "      <th>3</th>\n",
              "      <td>Queens</td>\n",
              "      <td>1040</td>\n",
              "      <td>4575</td>\n",
              "    </tr>\n",
              "    <tr>\n",
              "      <th>4</th>\n",
              "      <td>Staten Island</td>\n",
              "      <td>244</td>\n",
              "      <td>719</td>\n",
              "    </tr>\n",
              "  </tbody>\n",
              "</table>\n",
              "</div>"
            ],
            "text/plain": [
              "cuisine        borough  American  Non American\n",
              "0                Bronx       411          1911\n",
              "1             Brooklyn      1273          4773\n",
              "2            Manhattan      3205          7006\n",
              "3               Queens      1040          4575\n",
              "4        Staten Island       244           719"
            ]
          },
          "metadata": {},
          "execution_count": 15
        }
      ]
    },
    {
      "cell_type": "markdown",
      "metadata": {
        "id": "lopbpQdwmHbD"
      },
      "source": [
        "Visualizzi un istogramma in cui per ogni quartiere si visualizzi una barra con il numero dei ristoranti americani ed una per quelli non americani. Il risultato deve essere il seguente:"
      ]
    },
    {
      "cell_type": "code",
      "metadata": {
        "colab": {
          "base_uri": "https://localhost:8080/",
          "height": 294
        },
        "id": "En8xGfQZmH8-",
        "outputId": "71c5a08e-d8a7-49a1-eac7-0ce97ea0c1f1"
      },
      "source": [
        "fig = plt.figure()\n",
        "ax = plt.axes()\n",
        "\n",
        "ax.bar(df5['borough'], df5['American'], label='American', color='blue', width=.3)\n",
        "ax.bar(df5['borough'], df5['Non American'], label='Non American', color='orange',width=.3)\n",
        "ax.legend(loc=1)    \n",
        "\n",
        "fig.suptitle('Tipologia di cucina')\n",
        "\n",
        "plt.show()"
      ],
      "execution_count": null,
      "outputs": [
        {
          "output_type": "display_data",
          "data": {
            "image/png": "[encoded data removed]",
            "text/plain": [
              "<Figure size 432x288 with 1 Axes>"
            ]
          },
          "metadata": {
            "needs_background": "light"
          }
        }
      ]
    }
  ]
}