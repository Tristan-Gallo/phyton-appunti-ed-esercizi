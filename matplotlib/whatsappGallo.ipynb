{
  "nbformat": 4,
  "nbformat_minor": 0,
  "metadata": {
    "colab": {
      "name": "whatsappGallo.ipynb",
      "provenance": [],
      "collapsed_sections": []
    },
    "kernelspec": {
      "name": "python3",
      "display_name": "Python 3"
    },
    "language_info": {
      "name": "python"
    }
  },
  "cells": [
    {
      "cell_type": "code",
      "metadata": {
        "id": "sw5oODbW4TNT"
      },
      "source": [
        "bimport pandas as pd\n",
        "import matplotlib.pyplot as plt\n",
        "import numpy as np #serve per gestire le liste"
      ],
      "execution_count": null,
      "outputs": []
    },
    {
      "cell_type": "code",
      "metadata": {
        "colab": {
          "base_uri": "https://localhost:8080/",
          "height": 419
        },
        "id": "_k9reycW48Ox",
        "outputId": "16c3b443-7619-458e-8a70-16074b4c99ec"
      },
      "source": [
        "df = pd.read_json('https://raw.githubusercontent.com/CappuCitti/Python-appunti-ed-esercizi/main/MatPlotLib/Data/sample_chat_data.json')\n",
        "df"
      ],
      "execution_count": null,
      "outputs": [
        {
          "output_type": "execute_result",
          "data": {
            "text/html": [
              "<div>\n",
              "<style scoped>\n",
              "    .dataframe tbody tr th:only-of-type {\n",
              "        vertical-align: middle;\n",
              "    }\n",
              "\n",
              "    .dataframe tbody tr th {\n",
              "        vertical-align: top;\n",
              "    }\n",
              "\n",
              "    .dataframe thead th {\n",
              "        text-align: right;\n",
              "    }\n",
              "</style>\n",
              "<table border=\"1\" class=\"dataframe\">\n",
              "  <thead>\n",
              "    <tr style=\"text-align: right;\">\n",
              "      <th></th>\n",
              "      <th>user_id</th>\n",
              "      <th>message_length</th>\n",
              "      <th>device_type</th>\n",
              "      <th>has_media</th>\n",
              "      <th>has_links</th>\n",
              "      <th>full_date</th>\n",
              "    </tr>\n",
              "  </thead>\n",
              "  <tbody>\n",
              "    <tr>\n",
              "      <th>0</th>\n",
              "      <td>9a0f4@kp</td>\n",
              "      <td>43</td>\n",
              "      <td>android</td>\n",
              "      <td>False</td>\n",
              "      <td>False</td>\n",
              "      <td>2021-11-10T20:09:29.209Z</td>\n",
              "    </tr>\n",
              "    <tr>\n",
              "      <th>1</th>\n",
              "      <td>f6627@kp</td>\n",
              "      <td>0</td>\n",
              "      <td>android</td>\n",
              "      <td>False</td>\n",
              "      <td>False</td>\n",
              "      <td>2021-11-10T20:13:24.176Z</td>\n",
              "    </tr>\n",
              "    <tr>\n",
              "      <th>2</th>\n",
              "      <td>f6627@kp</td>\n",
              "      <td>38</td>\n",
              "      <td>android</td>\n",
              "      <td>False</td>\n",
              "      <td>False</td>\n",
              "      <td>2021-11-10T20:13:36.119Z</td>\n",
              "    </tr>\n",
              "    <tr>\n",
              "      <th>3</th>\n",
              "      <td>f6627@kp</td>\n",
              "      <td>33</td>\n",
              "      <td>android</td>\n",
              "      <td>False</td>\n",
              "      <td>False</td>\n",
              "      <td>2021-11-10T20:13:49.332Z</td>\n",
              "    </tr>\n",
              "    <tr>\n",
              "      <th>4</th>\n",
              "      <td>f9a56@kp</td>\n",
              "      <td>0</td>\n",
              "      <td>android</td>\n",
              "      <td>True</td>\n",
              "      <td>False</td>\n",
              "      <td>2021-11-10T20:17:00.923Z</td>\n",
              "    </tr>\n",
              "    <tr>\n",
              "      <th>...</th>\n",
              "      <td>...</td>\n",
              "      <td>...</td>\n",
              "      <td>...</td>\n",
              "      <td>...</td>\n",
              "      <td>...</td>\n",
              "      <td>...</td>\n",
              "    </tr>\n",
              "    <tr>\n",
              "      <th>213</th>\n",
              "      <td>f6627@kp</td>\n",
              "      <td>24</td>\n",
              "      <td>android</td>\n",
              "      <td>False</td>\n",
              "      <td>False</td>\n",
              "      <td>2021-11-16T07:09:05.402Z</td>\n",
              "    </tr>\n",
              "    <tr>\n",
              "      <th>214</th>\n",
              "      <td>9609a@kp</td>\n",
              "      <td>2</td>\n",
              "      <td>android</td>\n",
              "      <td>False</td>\n",
              "      <td>False</td>\n",
              "      <td>2021-11-16T07:09:33.219Z</td>\n",
              "    </tr>\n",
              "    <tr>\n",
              "      <th>215</th>\n",
              "      <td>f9a70@kp</td>\n",
              "      <td>37</td>\n",
              "      <td>ios</td>\n",
              "      <td>False</td>\n",
              "      <td>False</td>\n",
              "      <td>2021-11-16T19:46:42.982Z</td>\n",
              "    </tr>\n",
              "    <tr>\n",
              "      <th>216</th>\n",
              "      <td>f6627@kp</td>\n",
              "      <td>14</td>\n",
              "      <td>android</td>\n",
              "      <td>False</td>\n",
              "      <td>False</td>\n",
              "      <td>2021-11-16T19:58:27.852Z</td>\n",
              "    </tr>\n",
              "    <tr>\n",
              "      <th>217</th>\n",
              "      <td>9a0f4@kp</td>\n",
              "      <td>14</td>\n",
              "      <td>android</td>\n",
              "      <td>False</td>\n",
              "      <td>False</td>\n",
              "      <td>2021-11-16T20:01:04.148Z</td>\n",
              "    </tr>\n",
              "  </tbody>\n",
              "</table>\n",
              "<p>218 rows × 6 columns</p>\n",
              "</div>"
            ],
            "text/plain": [
              "      user_id  message_length  ... has_links                 full_date\n",
              "0    9a0f4@kp              43  ...     False  2021-11-10T20:09:29.209Z\n",
              "1    f6627@kp               0  ...     False  2021-11-10T20:13:24.176Z\n",
              "2    f6627@kp              38  ...     False  2021-11-10T20:13:36.119Z\n",
              "3    f6627@kp              33  ...     False  2021-11-10T20:13:49.332Z\n",
              "4    f9a56@kp               0  ...     False  2021-11-10T20:17:00.923Z\n",
              "..        ...             ...  ...       ...                       ...\n",
              "213  f6627@kp              24  ...     False  2021-11-16T07:09:05.402Z\n",
              "214  9609a@kp               2  ...     False  2021-11-16T07:09:33.219Z\n",
              "215  f9a70@kp              37  ...     False  2021-11-16T19:46:42.982Z\n",
              "216  f6627@kp              14  ...     False  2021-11-16T19:58:27.852Z\n",
              "217  9a0f4@kp              14  ...     False  2021-11-16T20:01:04.148Z\n",
              "\n",
              "[218 rows x 6 columns]"
            ]
          },
          "metadata": {},
          "execution_count": 4
        }
      ]
    },
    {
      "cell_type": "code",
      "metadata": {
        "colab": {
          "base_uri": "https://localhost:8080/"
        },
        "id": "cXTP6k4j5y1B",
        "outputId": "9d7b1b9b-6628-4fe9-8570-ef842cfe3988"
      },
      "source": [
        "df.info()"
      ],
      "execution_count": null,
      "outputs": [
        {
          "output_type": "stream",
          "name": "stdout",
          "text": [
            "<class 'pandas.core.frame.DataFrame'>\n",
            "RangeIndex: 218 entries, 0 to 217\n",
            "Data columns (total 6 columns):\n",
            " #   Column          Non-Null Count  Dtype \n",
            "---  ------          --------------  ----- \n",
            " 0   user_id         218 non-null    object\n",
            " 1   message_length  218 non-null    int64 \n",
            " 2   device_type     218 non-null    object\n",
            " 3   has_media       218 non-null    bool  \n",
            " 4   has_links       218 non-null    bool  \n",
            " 5   full_date       218 non-null    object\n",
            "dtypes: bool(2), int64(1), object(3)\n",
            "memory usage: 7.4+ KB\n"
          ]
        }
      ]
    },
    {
      "cell_type": "markdown",
      "metadata": {
        "id": "5BuO_axZ5cJ4"
      },
      "source": [
        "2. Creare un grafico a barre che mostri il numero di messaggi inviato da ogni utente in ordine decrescente"
      ]
    },
    {
      "cell_type": "code",
      "metadata": {
        "colab": {
          "base_uri": "https://localhost:8080/",
          "height": 514
        },
        "id": "F1_EzG5q6PIY",
        "outputId": "f4025b2e-bed1-4b5e-c25e-dd565a062e00"
      },
      "source": [
        "msg_num = df.groupby('user_id', as_index=False).count().sort_values('full_date',ascending = False)\n",
        "msg_num"
      ],
      "execution_count": null,
      "outputs": [
        {
          "output_type": "execute_result",
          "data": {
            "text/html": [
              "<div>\n",
              "<style scoped>\n",
              "    .dataframe tbody tr th:only-of-type {\n",
              "        vertical-align: middle;\n",
              "    }\n",
              "\n",
              "    .dataframe tbody tr th {\n",
              "        vertical-align: top;\n",
              "    }\n",
              "\n",
              "    .dataframe thead th {\n",
              "        text-align: right;\n",
              "    }\n",
              "</style>\n",
              "<table border=\"1\" class=\"dataframe\">\n",
              "  <thead>\n",
              "    <tr style=\"text-align: right;\">\n",
              "      <th></th>\n",
              "      <th>user_id</th>\n",
              "      <th>message_length</th>\n",
              "      <th>device_type</th>\n",
              "      <th>has_media</th>\n",
              "      <th>has_links</th>\n",
              "      <th>full_date</th>\n",
              "    </tr>\n",
              "  </thead>\n",
              "  <tbody>\n",
              "    <tr>\n",
              "      <th>6</th>\n",
              "      <td>9a0f4@kp</td>\n",
              "      <td>57</td>\n",
              "      <td>57</td>\n",
              "      <td>57</td>\n",
              "      <td>57</td>\n",
              "      <td>57</td>\n",
              "    </tr>\n",
              "    <tr>\n",
              "      <th>1</th>\n",
              "      <td>9609a@kp</td>\n",
              "      <td>54</td>\n",
              "      <td>54</td>\n",
              "      <td>54</td>\n",
              "      <td>54</td>\n",
              "      <td>54</td>\n",
              "    </tr>\n",
              "    <tr>\n",
              "      <th>0</th>\n",
              "      <td>92a44@kp</td>\n",
              "      <td>20</td>\n",
              "      <td>20</td>\n",
              "      <td>20</td>\n",
              "      <td>20</td>\n",
              "      <td>20</td>\n",
              "    </tr>\n",
              "    <tr>\n",
              "      <th>2</th>\n",
              "      <td>96121@kp</td>\n",
              "      <td>17</td>\n",
              "      <td>17</td>\n",
              "      <td>17</td>\n",
              "      <td>17</td>\n",
              "      <td>17</td>\n",
              "    </tr>\n",
              "    <tr>\n",
              "      <th>13</th>\n",
              "      <td>f9a56@kp</td>\n",
              "      <td>17</td>\n",
              "      <td>17</td>\n",
              "      <td>17</td>\n",
              "      <td>17</td>\n",
              "      <td>17</td>\n",
              "    </tr>\n",
              "    <tr>\n",
              "      <th>9</th>\n",
              "      <td>f6627@kp</td>\n",
              "      <td>13</td>\n",
              "      <td>13</td>\n",
              "      <td>13</td>\n",
              "      <td>13</td>\n",
              "      <td>13</td>\n",
              "    </tr>\n",
              "    <tr>\n",
              "      <th>12</th>\n",
              "      <td>f9756@kp</td>\n",
              "      <td>9</td>\n",
              "      <td>9</td>\n",
              "      <td>9</td>\n",
              "      <td>9</td>\n",
              "      <td>9</td>\n",
              "    </tr>\n",
              "    <tr>\n",
              "      <th>10</th>\n",
              "      <td>f76a0@kp</td>\n",
              "      <td>5</td>\n",
              "      <td>5</td>\n",
              "      <td>5</td>\n",
              "      <td>5</td>\n",
              "      <td>5</td>\n",
              "    </tr>\n",
              "    <tr>\n",
              "      <th>11</th>\n",
              "      <td>f9742@kp</td>\n",
              "      <td>5</td>\n",
              "      <td>5</td>\n",
              "      <td>5</td>\n",
              "      <td>5</td>\n",
              "      <td>5</td>\n",
              "    </tr>\n",
              "    <tr>\n",
              "      <th>14</th>\n",
              "      <td>f9a70@kp</td>\n",
              "      <td>5</td>\n",
              "      <td>5</td>\n",
              "      <td>5</td>\n",
              "      <td>5</td>\n",
              "      <td>5</td>\n",
              "    </tr>\n",
              "    <tr>\n",
              "      <th>3</th>\n",
              "      <td>96199@kp</td>\n",
              "      <td>4</td>\n",
              "      <td>4</td>\n",
              "      <td>4</td>\n",
              "      <td>4</td>\n",
              "      <td>4</td>\n",
              "    </tr>\n",
              "    <tr>\n",
              "      <th>5</th>\n",
              "      <td>9679f@kp</td>\n",
              "      <td>4</td>\n",
              "      <td>4</td>\n",
              "      <td>4</td>\n",
              "      <td>4</td>\n",
              "      <td>4</td>\n",
              "    </tr>\n",
              "    <tr>\n",
              "      <th>7</th>\n",
              "      <td>f4511@kp</td>\n",
              "      <td>4</td>\n",
              "      <td>4</td>\n",
              "      <td>4</td>\n",
              "      <td>4</td>\n",
              "      <td>4</td>\n",
              "    </tr>\n",
              "    <tr>\n",
              "      <th>8</th>\n",
              "      <td>f5740@kp</td>\n",
              "      <td>3</td>\n",
              "      <td>3</td>\n",
              "      <td>3</td>\n",
              "      <td>3</td>\n",
              "      <td>3</td>\n",
              "    </tr>\n",
              "    <tr>\n",
              "      <th>4</th>\n",
              "      <td>966aa@kp</td>\n",
              "      <td>1</td>\n",
              "      <td>1</td>\n",
              "      <td>1</td>\n",
              "      <td>1</td>\n",
              "      <td>1</td>\n",
              "    </tr>\n",
              "  </tbody>\n",
              "</table>\n",
              "</div>"
            ],
            "text/plain": [
              "     user_id  message_length  device_type  has_media  has_links  full_date\n",
              "6   9a0f4@kp              57           57         57         57         57\n",
              "1   9609a@kp              54           54         54         54         54\n",
              "0   92a44@kp              20           20         20         20         20\n",
              "2   96121@kp              17           17         17         17         17\n",
              "13  f9a56@kp              17           17         17         17         17\n",
              "9   f6627@kp              13           13         13         13         13\n",
              "12  f9756@kp               9            9          9          9          9\n",
              "10  f76a0@kp               5            5          5          5          5\n",
              "11  f9742@kp               5            5          5          5          5\n",
              "14  f9a70@kp               5            5          5          5          5\n",
              "3   96199@kp               4            4          4          4          4\n",
              "5   9679f@kp               4            4          4          4          4\n",
              "7   f4511@kp               4            4          4          4          4\n",
              "8   f5740@kp               3            3          3          3          3\n",
              "4   966aa@kp               1            1          1          1          1"
            ]
          },
          "metadata": {},
          "execution_count": 7
        }
      ]
    },
    {
      "cell_type": "code",
      "metadata": {
        "colab": {
          "base_uri": "https://localhost:8080/",
          "height": 555
        },
        "id": "czNuL_wo7aqo",
        "outputId": "029ef654-e8e5-4a7a-dad7-3e31a20d6d78"
      },
      "source": [
        "plt.rcParams.update({'font.size': 20})#serve per modificare la grandezza dei caratteri\n",
        "\n",
        "fig = plt.figure(figsize=(9.6,7.2))#crea la figura\n",
        "ax = plt.axes()#crea gli assi\n",
        "\n",
        "ax.grid()\n",
        "fig.suptitle('messaggi')\n",
        "fig.autofmt_xdate(rotation=45)\n",
        "\n",
        "ax.set_xlabel('utenti')\n",
        "ax.set_ylabel('n messaggi')\n",
        "\n",
        "ax.bar(msg_num['user_id'],msg_num['full_date'],color = 'chocolate')\n",
        "\n",
        "plt.show()"
      ],
      "execution_count": null,
      "outputs": [
        {
          "output_type": "display_data",
          "data": {
            "image/png": "[encoded data removed]",
            "text/plain": [
              "<Figure size 691.2x518.4 with 1 Axes>"
            ]
          },
          "metadata": {
            "needs_background": "light"
          }
        }
      ]
    },
    {
      "cell_type": "code",
      "metadata": {
        "colab": {
          "base_uri": "https://localhost:8080/"
        },
        "id": "1h3foB3XD37g",
        "outputId": "fd2a08c7-cc80-4304-94ee-cfbf3c8944a1"
      },
      "source": [
        "msg_num['full_date'].mean()"
      ],
      "execution_count": null,
      "outputs": [
        {
          "output_type": "execute_result",
          "data": {
            "text/plain": [
              "14.533333333333333"
            ]
          },
          "metadata": {},
          "execution_count": 9
        }
      ]
    },
    {
      "cell_type": "code",
      "metadata": {
        "colab": {
          "base_uri": "https://localhost:8080/"
        },
        "id": "1rIZln2-EVyv",
        "outputId": "f657c90a-2366-48b2-ba5d-0d3d1c0522d2"
      },
      "source": [
        "msg_num.loc[msg_num['full_date'] > msg_num['full_date'].mean(),'user_id']#chi ha scritto piu messaggi in base alla media"
      ],
      "execution_count": null,
      "outputs": [
        {
          "output_type": "execute_result",
          "data": {
            "text/plain": [
              "6     9a0f4@kp\n",
              "1     9609a@kp\n",
              "0     92a44@kp\n",
              "2     96121@kp\n",
              "13    f9a56@kp\n",
              "Name: user_id, dtype: object"
            ]
          },
          "metadata": {},
          "execution_count": 10
        }
      ]
    },
    {
      "cell_type": "code",
      "metadata": {
        "colab": {
          "base_uri": "https://localhost:8080/"
        },
        "id": "myzlLrIjIwlq",
        "outputId": "473d508c-0c49-4dd1-a705-224180c7a710"
      },
      "source": [
        "df['full_date'] = pd.to_datetime(df['full_date'])\n",
        "df['full_date'].dt.date"
      ],
      "execution_count": null,
      "outputs": [
        {
          "output_type": "execute_result",
          "data": {
            "text/plain": [
              "0      2021-11-10\n",
              "1      2021-11-10\n",
              "2      2021-11-10\n",
              "3      2021-11-10\n",
              "4      2021-11-10\n",
              "          ...    \n",
              "213    2021-11-16\n",
              "214    2021-11-16\n",
              "215    2021-11-16\n",
              "216    2021-11-16\n",
              "217    2021-11-16\n",
              "Name: full_date, Length: 218, dtype: object"
            ]
          },
          "metadata": {},
          "execution_count": 11
        }
      ]
    },
    {
      "cell_type": "code",
      "metadata": {
        "colab": {
          "base_uri": "https://localhost:8080/",
          "height": 297
        },
        "id": "wExnVMfdH-kS",
        "outputId": "65028957-16bb-42e6-bdc3-3f4994f435e0"
      },
      "source": [
        "data = df.groupby(df['full_date'].dt.date).count()\n",
        "data"
      ],
      "execution_count": null,
      "outputs": [
        {
          "output_type": "execute_result",
          "data": {
            "text/html": [
              "<div>\n",
              "<style scoped>\n",
              "    .dataframe tbody tr th:only-of-type {\n",
              "        vertical-align: middle;\n",
              "    }\n",
              "\n",
              "    .dataframe tbody tr th {\n",
              "        vertical-align: top;\n",
              "    }\n",
              "\n",
              "    .dataframe thead th {\n",
              "        text-align: right;\n",
              "    }\n",
              "</style>\n",
              "<table border=\"1\" class=\"dataframe\">\n",
              "  <thead>\n",
              "    <tr style=\"text-align: right;\">\n",
              "      <th></th>\n",
              "      <th>user_id</th>\n",
              "      <th>message_length</th>\n",
              "      <th>device_type</th>\n",
              "      <th>has_media</th>\n",
              "      <th>has_links</th>\n",
              "      <th>full_date</th>\n",
              "    </tr>\n",
              "    <tr>\n",
              "      <th>full_date</th>\n",
              "      <th></th>\n",
              "      <th></th>\n",
              "      <th></th>\n",
              "      <th></th>\n",
              "      <th></th>\n",
              "      <th></th>\n",
              "    </tr>\n",
              "  </thead>\n",
              "  <tbody>\n",
              "    <tr>\n",
              "      <th>2021-11-10</th>\n",
              "      <td>10</td>\n",
              "      <td>10</td>\n",
              "      <td>10</td>\n",
              "      <td>10</td>\n",
              "      <td>10</td>\n",
              "      <td>10</td>\n",
              "    </tr>\n",
              "    <tr>\n",
              "      <th>2021-11-11</th>\n",
              "      <td>34</td>\n",
              "      <td>34</td>\n",
              "      <td>34</td>\n",
              "      <td>34</td>\n",
              "      <td>34</td>\n",
              "      <td>34</td>\n",
              "    </tr>\n",
              "    <tr>\n",
              "      <th>2021-11-12</th>\n",
              "      <td>62</td>\n",
              "      <td>62</td>\n",
              "      <td>62</td>\n",
              "      <td>62</td>\n",
              "      <td>62</td>\n",
              "      <td>62</td>\n",
              "    </tr>\n",
              "    <tr>\n",
              "      <th>2021-11-13</th>\n",
              "      <td>2</td>\n",
              "      <td>2</td>\n",
              "      <td>2</td>\n",
              "      <td>2</td>\n",
              "      <td>2</td>\n",
              "      <td>2</td>\n",
              "    </tr>\n",
              "    <tr>\n",
              "      <th>2021-11-14</th>\n",
              "      <td>41</td>\n",
              "      <td>41</td>\n",
              "      <td>41</td>\n",
              "      <td>41</td>\n",
              "      <td>41</td>\n",
              "      <td>41</td>\n",
              "    </tr>\n",
              "    <tr>\n",
              "      <th>2021-11-15</th>\n",
              "      <td>56</td>\n",
              "      <td>56</td>\n",
              "      <td>56</td>\n",
              "      <td>56</td>\n",
              "      <td>56</td>\n",
              "      <td>56</td>\n",
              "    </tr>\n",
              "    <tr>\n",
              "      <th>2021-11-16</th>\n",
              "      <td>13</td>\n",
              "      <td>13</td>\n",
              "      <td>13</td>\n",
              "      <td>13</td>\n",
              "      <td>13</td>\n",
              "      <td>13</td>\n",
              "    </tr>\n",
              "  </tbody>\n",
              "</table>\n",
              "</div>"
            ],
            "text/plain": [
              "            user_id  message_length  ...  has_links  full_date\n",
              "full_date                            ...                      \n",
              "2021-11-10       10              10  ...         10         10\n",
              "2021-11-11       34              34  ...         34         34\n",
              "2021-11-12       62              62  ...         62         62\n",
              "2021-11-13        2               2  ...          2          2\n",
              "2021-11-14       41              41  ...         41         41\n",
              "2021-11-15       56              56  ...         56         56\n",
              "2021-11-16       13              13  ...         13         13\n",
              "\n",
              "[7 rows x 6 columns]"
            ]
          },
          "metadata": {},
          "execution_count": 12
        }
      ]
    },
    {
      "cell_type": "code",
      "metadata": {
        "colab": {
          "base_uri": "https://localhost:8080/",
          "height": 277
        },
        "id": "kDB00bhXFU9o",
        "outputId": "a36a4f42-8cd2-405b-ee82-26b262c8ec0f"
      },
      "source": [
        "plt.rcParams.update({'font.size': 12})\n",
        "\n",
        "fig = plt.figure()\n",
        "ax = plt.axes()\n",
        "\n",
        "fig.suptitle('pie')\n",
        "\n",
        "ax.pie(data['user_id'], labels=data.index, autopct='%4.1f%%',startangle = 90, colors=['y','r','b'])\n",
        "plt.show()"
      ],
      "execution_count": null,
      "outputs": [
        {
          "output_type": "display_data",
          "data": {
            "image/png": "[encoded data removed]",
            "text/plain": [
              "<Figure size 432x288 with 1 Axes>"
            ]
          },
          "metadata": {}
        }
      ]
    },
    {
      "cell_type": "code",
      "metadata": {
        "id": "X7iTjSQfLICQ",
        "colab": {
          "base_uri": "https://localhost:8080/",
          "height": 298
        },
        "outputId": "dad1ea53-d4d9-47c7-abc7-9573e2f2b7b2"
      },
      "source": [
        "data = df.groupby ('user_id').agg({'message_length': 'count','has_media':'sum','has_links':'sum'}).sort_values('message_length',ascending=False)\n",
        "labels = data.index\n",
        "msgs = np.subtract(data['message_length'],np.add(data['has_media'], data['has_links']))\n",
        "msgs_links = data['has_links']\n",
        "msgs_media = data['has_media']\n",
        "\n",
        "fig = plt.figure()\n",
        "ax = plt.axes()\n",
        "ax.bar(labels,msgs, color= '#f00')\n",
        "ax.bar(labels,msgs_links,bottom=msgs, color='#00f')#bottom sposta la base risptto alla base che gli diamo noi\n",
        "ax.bar(labels,msgs_media,bottom=np.add(msgs,msgs_links, color='#0f0'))\n",
        "\n",
        "fig.autofmt_xdate(rotation=90)\n",
        "\n",
        "data\n",
        "plt.show()"
      ],
      "execution_count": null,
      "outputs": [
        {
          "output_type": "display_data",
          "data": {
            "image/png": "[encoded data removed]",
            "text/plain": [
              "<Figure size 432x288 with 1 Axes>"
            ]
          },
          "metadata": {
            "needs_background": "light"
          }
        }
      ]
    },
    {
      "cell_type": "code",
      "metadata": {
        "id": "tQWwv7-QkMCs"
      },
      "source": [
        ""
      ],
      "execution_count": null,
      "outputs": []
    }
  ]
}