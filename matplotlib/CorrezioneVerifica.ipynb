{
  "nbformat": 4,
  "nbformat_minor": 0,
  "metadata": {
    "colab": {
      "name": "CorrezioneVerifica.ipynb",
      "provenance": [],
      "collapsed_sections": []
    },
    "kernelspec": {
      "name": "python3",
      "display_name": "Python 3"
    },
    "language_info": {
      "name": "python"
    }
  },
  "cells": [
    {
      "cell_type": "code",
      "metadata": {
        "id": "swZfA13jex-L"
      },
      "source": [
        "import pandas as pd"
      ],
      "execution_count": null,
      "outputs": []
    },
    {
      "cell_type": "code",
      "metadata": {
        "colab": {
          "base_uri": "https://localhost:8080/",
          "height": 419
        },
        "id": "kBGy3xY4e1gG",
        "outputId": "04bffb4d-b6b8-49b8-abc6-0e77f7b15b11"
      },
      "source": [
        "url = 'https://raw.githubusercontent.com/wtitze/3E/main/Medals.xlsx'\n",
        "medals = pd.read_excel(url)\n",
        "medals"
      ],
      "execution_count": null,
      "outputs": [
        {
          "output_type": "execute_result",
          "data": {
            "text/html": [
              "<div>\n",
              "<style scoped>\n",
              "    .dataframe tbody tr th:only-of-type {\n",
              "        vertical-align: middle;\n",
              "    }\n",
              "\n",
              "    .dataframe tbody tr th {\n",
              "        vertical-align: top;\n",
              "    }\n",
              "\n",
              "    .dataframe thead th {\n",
              "        text-align: right;\n",
              "    }\n",
              "</style>\n",
              "<table border=\"1\" class=\"dataframe\">\n",
              "  <thead>\n",
              "    <tr style=\"text-align: right;\">\n",
              "      <th></th>\n",
              "      <th>Rank</th>\n",
              "      <th>Team/NOC</th>\n",
              "      <th>Gold</th>\n",
              "      <th>Silver</th>\n",
              "      <th>Bronze</th>\n",
              "      <th>Total</th>\n",
              "      <th>Rank by Total</th>\n",
              "    </tr>\n",
              "  </thead>\n",
              "  <tbody>\n",
              "    <tr>\n",
              "      <th>0</th>\n",
              "      <td>1</td>\n",
              "      <td>United States of America</td>\n",
              "      <td>39</td>\n",
              "      <td>41</td>\n",
              "      <td>33</td>\n",
              "      <td>113</td>\n",
              "      <td>1</td>\n",
              "    </tr>\n",
              "    <tr>\n",
              "      <th>1</th>\n",
              "      <td>2</td>\n",
              "      <td>People's Republic of China</td>\n",
              "      <td>38</td>\n",
              "      <td>32</td>\n",
              "      <td>18</td>\n",
              "      <td>88</td>\n",
              "      <td>2</td>\n",
              "    </tr>\n",
              "    <tr>\n",
              "      <th>2</th>\n",
              "      <td>3</td>\n",
              "      <td>Japan</td>\n",
              "      <td>27</td>\n",
              "      <td>14</td>\n",
              "      <td>17</td>\n",
              "      <td>58</td>\n",
              "      <td>5</td>\n",
              "    </tr>\n",
              "    <tr>\n",
              "      <th>3</th>\n",
              "      <td>4</td>\n",
              "      <td>Great Britain</td>\n",
              "      <td>22</td>\n",
              "      <td>21</td>\n",
              "      <td>22</td>\n",
              "      <td>65</td>\n",
              "      <td>4</td>\n",
              "    </tr>\n",
              "    <tr>\n",
              "      <th>4</th>\n",
              "      <td>5</td>\n",
              "      <td>ROC</td>\n",
              "      <td>20</td>\n",
              "      <td>28</td>\n",
              "      <td>23</td>\n",
              "      <td>71</td>\n",
              "      <td>3</td>\n",
              "    </tr>\n",
              "    <tr>\n",
              "      <th>...</th>\n",
              "      <td>...</td>\n",
              "      <td>...</td>\n",
              "      <td>...</td>\n",
              "      <td>...</td>\n",
              "      <td>...</td>\n",
              "      <td>...</td>\n",
              "      <td>...</td>\n",
              "    </tr>\n",
              "    <tr>\n",
              "      <th>88</th>\n",
              "      <td>86</td>\n",
              "      <td>Ghana</td>\n",
              "      <td>0</td>\n",
              "      <td>0</td>\n",
              "      <td>1</td>\n",
              "      <td>1</td>\n",
              "      <td>77</td>\n",
              "    </tr>\n",
              "    <tr>\n",
              "      <th>89</th>\n",
              "      <td>86</td>\n",
              "      <td>Grenada</td>\n",
              "      <td>0</td>\n",
              "      <td>0</td>\n",
              "      <td>1</td>\n",
              "      <td>1</td>\n",
              "      <td>77</td>\n",
              "    </tr>\n",
              "    <tr>\n",
              "      <th>90</th>\n",
              "      <td>86</td>\n",
              "      <td>Kuwait</td>\n",
              "      <td>0</td>\n",
              "      <td>0</td>\n",
              "      <td>1</td>\n",
              "      <td>1</td>\n",
              "      <td>77</td>\n",
              "    </tr>\n",
              "    <tr>\n",
              "      <th>91</th>\n",
              "      <td>86</td>\n",
              "      <td>Republic of Moldova</td>\n",
              "      <td>0</td>\n",
              "      <td>0</td>\n",
              "      <td>1</td>\n",
              "      <td>1</td>\n",
              "      <td>77</td>\n",
              "    </tr>\n",
              "    <tr>\n",
              "      <th>92</th>\n",
              "      <td>86</td>\n",
              "      <td>Syrian Arab Republic</td>\n",
              "      <td>0</td>\n",
              "      <td>0</td>\n",
              "      <td>1</td>\n",
              "      <td>1</td>\n",
              "      <td>77</td>\n",
              "    </tr>\n",
              "  </tbody>\n",
              "</table>\n",
              "<p>93 rows × 7 columns</p>\n",
              "</div>"
            ],
            "text/plain": [
              "    Rank                    Team/NOC  Gold  ...  Bronze  Total  Rank by Total\n",
              "0      1    United States of America    39  ...      33    113              1\n",
              "1      2  People's Republic of China    38  ...      18     88              2\n",
              "2      3                       Japan    27  ...      17     58              5\n",
              "3      4               Great Britain    22  ...      22     65              4\n",
              "4      5                         ROC    20  ...      23     71              3\n",
              "..   ...                         ...   ...  ...     ...    ...            ...\n",
              "88    86                       Ghana     0  ...       1      1             77\n",
              "89    86                     Grenada     0  ...       1      1             77\n",
              "90    86                      Kuwait     0  ...       1      1             77\n",
              "91    86         Republic of Moldova     0  ...       1      1             77\n",
              "92    86        Syrian Arab Republic     0  ...       1      1             77\n",
              "\n",
              "[93 rows x 7 columns]"
            ]
          },
          "metadata": {},
          "execution_count": 3
        }
      ]
    },
    {
      "cell_type": "code",
      "metadata": {
        "colab": {
          "base_uri": "https://localhost:8080/",
          "height": 129
        },
        "id": "wggQ-mFXfZG3",
        "outputId": "bd97e7cd-603b-4157-db25-a23af2acae56"
      },
      "source": [
        "# eliminare le ultime 2 colonne\n",
        "medals.drops=(colums=['Total','Rank by Total'])\n",
        "medals"
      ],
      "execution_count": null,
      "outputs": [
        {
          "output_type": "error",
          "ename": "SyntaxError",
          "evalue": "ignored",
          "traceback": [
            "\u001b[0;36m  File \u001b[0;32m\"<ipython-input-4-2a7f3d616247>\"\u001b[0;36m, line \u001b[0;32m2\u001b[0m\n\u001b[0;31m    medals.drops=(colums=['Total','Rank by Total'])\u001b[0m\n\u001b[0m                        ^\u001b[0m\n\u001b[0;31mSyntaxError\u001b[0m\u001b[0;31m:\u001b[0m invalid syntax\n"
          ]
        }
      ]
    },
    {
      "cell_type": "code",
      "metadata": {
        "colab": {
          "base_uri": "https://localhost:8080/",
          "height": 419
        },
        "id": "A8FF6Zeef7GP",
        "outputId": "e7104bbb-ef9f-4e9f-964b-04359ee72b60"
      },
      "source": [
        "medals.rename(columns={'Tam':'Team'}, inplace = True)\n",
        "medals"
      ],
      "execution_count": null,
      "outputs": [
        {
          "output_type": "execute_result",
          "data": {
            "text/html": [
              "<div>\n",
              "<style scoped>\n",
              "    .dataframe tbody tr th:only-of-type {\n",
              "        vertical-align: middle;\n",
              "    }\n",
              "\n",
              "    .dataframe tbody tr th {\n",
              "        vertical-align: top;\n",
              "    }\n",
              "\n",
              "    .dataframe thead th {\n",
              "        text-align: right;\n",
              "    }\n",
              "</style>\n",
              "<table border=\"1\" class=\"dataframe\">\n",
              "  <thead>\n",
              "    <tr style=\"text-align: right;\">\n",
              "      <th></th>\n",
              "      <th>Rank</th>\n",
              "      <th>Team</th>\n",
              "      <th>Gold</th>\n",
              "      <th>Silver</th>\n",
              "      <th>Bronze</th>\n",
              "      <th>Total</th>\n",
              "      <th>Rank by Total</th>\n",
              "    </tr>\n",
              "  </thead>\n",
              "  <tbody>\n",
              "    <tr>\n",
              "      <th>0</th>\n",
              "      <td>1</td>\n",
              "      <td>United States of America</td>\n",
              "      <td>39</td>\n",
              "      <td>41</td>\n",
              "      <td>33</td>\n",
              "      <td>113</td>\n",
              "      <td>1</td>\n",
              "    </tr>\n",
              "    <tr>\n",
              "      <th>1</th>\n",
              "      <td>2</td>\n",
              "      <td>People's Republic of China</td>\n",
              "      <td>38</td>\n",
              "      <td>32</td>\n",
              "      <td>18</td>\n",
              "      <td>88</td>\n",
              "      <td>2</td>\n",
              "    </tr>\n",
              "    <tr>\n",
              "      <th>2</th>\n",
              "      <td>3</td>\n",
              "      <td>Japan</td>\n",
              "      <td>27</td>\n",
              "      <td>14</td>\n",
              "      <td>17</td>\n",
              "      <td>58</td>\n",
              "      <td>5</td>\n",
              "    </tr>\n",
              "    <tr>\n",
              "      <th>3</th>\n",
              "      <td>4</td>\n",
              "      <td>Great Britain</td>\n",
              "      <td>22</td>\n",
              "      <td>21</td>\n",
              "      <td>22</td>\n",
              "      <td>65</td>\n",
              "      <td>4</td>\n",
              "    </tr>\n",
              "    <tr>\n",
              "      <th>4</th>\n",
              "      <td>5</td>\n",
              "      <td>ROC</td>\n",
              "      <td>20</td>\n",
              "      <td>28</td>\n",
              "      <td>23</td>\n",
              "      <td>71</td>\n",
              "      <td>3</td>\n",
              "    </tr>\n",
              "    <tr>\n",
              "      <th>...</th>\n",
              "      <td>...</td>\n",
              "      <td>...</td>\n",
              "      <td>...</td>\n",
              "      <td>...</td>\n",
              "      <td>...</td>\n",
              "      <td>...</td>\n",
              "      <td>...</td>\n",
              "    </tr>\n",
              "    <tr>\n",
              "      <th>88</th>\n",
              "      <td>86</td>\n",
              "      <td>Ghana</td>\n",
              "      <td>0</td>\n",
              "      <td>0</td>\n",
              "      <td>1</td>\n",
              "      <td>1</td>\n",
              "      <td>77</td>\n",
              "    </tr>\n",
              "    <tr>\n",
              "      <th>89</th>\n",
              "      <td>86</td>\n",
              "      <td>Grenada</td>\n",
              "      <td>0</td>\n",
              "      <td>0</td>\n",
              "      <td>1</td>\n",
              "      <td>1</td>\n",
              "      <td>77</td>\n",
              "    </tr>\n",
              "    <tr>\n",
              "      <th>90</th>\n",
              "      <td>86</td>\n",
              "      <td>Kuwait</td>\n",
              "      <td>0</td>\n",
              "      <td>0</td>\n",
              "      <td>1</td>\n",
              "      <td>1</td>\n",
              "      <td>77</td>\n",
              "    </tr>\n",
              "    <tr>\n",
              "      <th>91</th>\n",
              "      <td>86</td>\n",
              "      <td>Republic of Moldova</td>\n",
              "      <td>0</td>\n",
              "      <td>0</td>\n",
              "      <td>1</td>\n",
              "      <td>1</td>\n",
              "      <td>77</td>\n",
              "    </tr>\n",
              "    <tr>\n",
              "      <th>92</th>\n",
              "      <td>86</td>\n",
              "      <td>Syrian Arab Republic</td>\n",
              "      <td>0</td>\n",
              "      <td>0</td>\n",
              "      <td>1</td>\n",
              "      <td>1</td>\n",
              "      <td>77</td>\n",
              "    </tr>\n",
              "  </tbody>\n",
              "</table>\n",
              "<p>93 rows × 7 columns</p>\n",
              "</div>"
            ],
            "text/plain": [
              "    Rank                        Team  Gold  ...  Bronze  Total  Rank by Total\n",
              "0      1    United States of America    39  ...      33    113              1\n",
              "1      2  People's Republic of China    38  ...      18     88              2\n",
              "2      3                       Japan    27  ...      17     58              5\n",
              "3      4               Great Britain    22  ...      22     65              4\n",
              "4      5                         ROC    20  ...      23     71              3\n",
              "..   ...                         ...   ...  ...     ...    ...            ...\n",
              "88    86                       Ghana     0  ...       1      1             77\n",
              "89    86                     Grenada     0  ...       1      1             77\n",
              "90    86                      Kuwait     0  ...       1      1             77\n",
              "91    86         Republic of Moldova     0  ...       1      1             77\n",
              "92    86        Syrian Arab Republic     0  ...       1      1             77\n",
              "\n",
              "[93 rows x 7 columns]"
            ]
          },
          "metadata": {},
          "execution_count": 14
        }
      ]
    },
    {
      "cell_type": "code",
      "metadata": {
        "colab": {
          "base_uri": "https://localhost:8080/"
        },
        "id": "mI3Kv2zkgeEw",
        "outputId": "4f33794e-36ac-48a3-8acf-38bc3cd4e66b"
      },
      "source": [
        "medals[medals['Team'] == 'Italy']['Gold']"
      ],
      "execution_count": null,
      "outputs": [
        {
          "output_type": "execute_result",
          "data": {
            "text/plain": [
              "9    10\n",
              "Name: Gold, dtype: int64"
            ]
          },
          "metadata": {},
          "execution_count": 16
        }
      ]
    },
    {
      "cell_type": "code",
      "metadata": {
        "colab": {
          "base_uri": "https://localhost:8080/",
          "height": 142
        },
        "id": "syyPeOCwhVKn",
        "outputId": "593cfac1-2b23-4fe8-e932-22af8aa556fa"
      },
      "source": [
        "medals[medals['Team'].str.startswith('F')][['Gold','Team']]"
      ],
      "execution_count": null,
      "outputs": [
        {
          "output_type": "execute_result",
          "data": {
            "text/html": [
              "<div>\n",
              "<style scoped>\n",
              "    .dataframe tbody tr th:only-of-type {\n",
              "        vertical-align: middle;\n",
              "    }\n",
              "\n",
              "    .dataframe tbody tr th {\n",
              "        vertical-align: top;\n",
              "    }\n",
              "\n",
              "    .dataframe thead th {\n",
              "        text-align: right;\n",
              "    }\n",
              "</style>\n",
              "<table border=\"1\" class=\"dataframe\">\n",
              "  <thead>\n",
              "    <tr style=\"text-align: right;\">\n",
              "      <th></th>\n",
              "      <th>Gold</th>\n",
              "      <th>Team</th>\n",
              "    </tr>\n",
              "  </thead>\n",
              "  <tbody>\n",
              "    <tr>\n",
              "      <th>7</th>\n",
              "      <td>10</td>\n",
              "      <td>France</td>\n",
              "    </tr>\n",
              "    <tr>\n",
              "      <th>59</th>\n",
              "      <td>1</td>\n",
              "      <td>Fiji</td>\n",
              "    </tr>\n",
              "    <tr>\n",
              "      <th>84</th>\n",
              "      <td>0</td>\n",
              "      <td>Finland</td>\n",
              "    </tr>\n",
              "  </tbody>\n",
              "</table>\n",
              "</div>"
            ],
            "text/plain": [
              "    Gold     Team\n",
              "7     10   France\n",
              "59     1     Fiji\n",
              "84     0  Finland"
            ]
          },
          "metadata": {},
          "execution_count": 18
        }
      ]
    },
    {
      "cell_type": "code",
      "metadata": {
        "id": "s-jVVqKdiBGx"
      },
      "source": [
        "import matplotlib.pyplot as plt"
      ],
      "execution_count": null,
      "outputs": []
    },
    {
      "cell_type": "markdown",
      "metadata": {
        "id": "9u80KuhiiNAQ"
      },
      "source": [
        "visualizzare il grafico delle medaglie d'oro vinte dalle nazione che iniziano con la lettera f"
      ]
    },
    {
      "cell_type": "code",
      "metadata": {
        "colab": {
          "base_uri": "https://localhost:8080/",
          "height": 717
        },
        "id": "XOVvGnUCiXrH",
        "outputId": "e588c439-bac2-49ab-f28e-effb1d8da632"
      },
      "source": [
        "x = list(medals[medals['Team'].str.startswith('F')]['Team'])\n",
        "y = list(medals[medals['Team'].str.startswith('F')]['Gold'])\n",
        "\n",
        "\n",
        "fig = plt.figure(figsize=(10,12))\n",
        "ax = plt.axes()\n",
        "plt.rcParams.update({'font.size': 30})\n",
        "ax.bar(x,y)\n"
      ],
      "execution_count": null,
      "outputs": [
        {
          "output_type": "execute_result",
          "data": {
            "text/plain": [
              "<BarContainer object of 3 artists>"
            ]
          },
          "metadata": {},
          "execution_count": 30
        },
        {
          "output_type": "display_data",
          "data": {
            "image/png": "[encoded data removed]",
            "text/plain": [
              "<Figure size 720x864 with 1 Axes>"
            ]
          },
          "metadata": {
            "needs_background": "light"
          }
        }
      ]
    },
    {
      "cell_type": "code",
      "metadata": {
        "colab": {
          "base_uri": "https://localhost:8080/",
          "height": 419
        },
        "id": "sCLoQFraluLB",
        "outputId": "ae5eca3f-a25c-444f-d3ae-75d34ac95449"
      },
      "source": [
        "#aggiungere una colonna contenentte il numero totale di medaglie di ogni nazione.\n",
        "medals['Total']=medals['Gold']+medals['Silver']+medals['Bronze']\n",
        "medals"
      ],
      "execution_count": null,
      "outputs": [
        {
          "output_type": "execute_result",
          "data": {
            "text/html": [
              "<div>\n",
              "<style scoped>\n",
              "    .dataframe tbody tr th:only-of-type {\n",
              "        vertical-align: middle;\n",
              "    }\n",
              "\n",
              "    .dataframe tbody tr th {\n",
              "        vertical-align: top;\n",
              "    }\n",
              "\n",
              "    .dataframe thead th {\n",
              "        text-align: right;\n",
              "    }\n",
              "</style>\n",
              "<table border=\"1\" class=\"dataframe\">\n",
              "  <thead>\n",
              "    <tr style=\"text-align: right;\">\n",
              "      <th></th>\n",
              "      <th>Rank</th>\n",
              "      <th>Team</th>\n",
              "      <th>Gold</th>\n",
              "      <th>Silver</th>\n",
              "      <th>Bronze</th>\n",
              "      <th>Total</th>\n",
              "      <th>Rank by Total</th>\n",
              "    </tr>\n",
              "  </thead>\n",
              "  <tbody>\n",
              "    <tr>\n",
              "      <th>0</th>\n",
              "      <td>1</td>\n",
              "      <td>United States of America</td>\n",
              "      <td>39</td>\n",
              "      <td>41</td>\n",
              "      <td>33</td>\n",
              "      <td>113</td>\n",
              "      <td>1</td>\n",
              "    </tr>\n",
              "    <tr>\n",
              "      <th>1</th>\n",
              "      <td>2</td>\n",
              "      <td>People's Republic of China</td>\n",
              "      <td>38</td>\n",
              "      <td>32</td>\n",
              "      <td>18</td>\n",
              "      <td>88</td>\n",
              "      <td>2</td>\n",
              "    </tr>\n",
              "    <tr>\n",
              "      <th>2</th>\n",
              "      <td>3</td>\n",
              "      <td>Japan</td>\n",
              "      <td>27</td>\n",
              "      <td>14</td>\n",
              "      <td>17</td>\n",
              "      <td>58</td>\n",
              "      <td>5</td>\n",
              "    </tr>\n",
              "    <tr>\n",
              "      <th>3</th>\n",
              "      <td>4</td>\n",
              "      <td>Great Britain</td>\n",
              "      <td>22</td>\n",
              "      <td>21</td>\n",
              "      <td>22</td>\n",
              "      <td>65</td>\n",
              "      <td>4</td>\n",
              "    </tr>\n",
              "    <tr>\n",
              "      <th>4</th>\n",
              "      <td>5</td>\n",
              "      <td>ROC</td>\n",
              "      <td>20</td>\n",
              "      <td>28</td>\n",
              "      <td>23</td>\n",
              "      <td>71</td>\n",
              "      <td>3</td>\n",
              "    </tr>\n",
              "    <tr>\n",
              "      <th>...</th>\n",
              "      <td>...</td>\n",
              "      <td>...</td>\n",
              "      <td>...</td>\n",
              "      <td>...</td>\n",
              "      <td>...</td>\n",
              "      <td>...</td>\n",
              "      <td>...</td>\n",
              "    </tr>\n",
              "    <tr>\n",
              "      <th>88</th>\n",
              "      <td>86</td>\n",
              "      <td>Ghana</td>\n",
              "      <td>0</td>\n",
              "      <td>0</td>\n",
              "      <td>1</td>\n",
              "      <td>1</td>\n",
              "      <td>77</td>\n",
              "    </tr>\n",
              "    <tr>\n",
              "      <th>89</th>\n",
              "      <td>86</td>\n",
              "      <td>Grenada</td>\n",
              "      <td>0</td>\n",
              "      <td>0</td>\n",
              "      <td>1</td>\n",
              "      <td>1</td>\n",
              "      <td>77</td>\n",
              "    </tr>\n",
              "    <tr>\n",
              "      <th>90</th>\n",
              "      <td>86</td>\n",
              "      <td>Kuwait</td>\n",
              "      <td>0</td>\n",
              "      <td>0</td>\n",
              "      <td>1</td>\n",
              "      <td>1</td>\n",
              "      <td>77</td>\n",
              "    </tr>\n",
              "    <tr>\n",
              "      <th>91</th>\n",
              "      <td>86</td>\n",
              "      <td>Republic of Moldova</td>\n",
              "      <td>0</td>\n",
              "      <td>0</td>\n",
              "      <td>1</td>\n",
              "      <td>1</td>\n",
              "      <td>77</td>\n",
              "    </tr>\n",
              "    <tr>\n",
              "      <th>92</th>\n",
              "      <td>86</td>\n",
              "      <td>Syrian Arab Republic</td>\n",
              "      <td>0</td>\n",
              "      <td>0</td>\n",
              "      <td>1</td>\n",
              "      <td>1</td>\n",
              "      <td>77</td>\n",
              "    </tr>\n",
              "  </tbody>\n",
              "</table>\n",
              "<p>93 rows × 7 columns</p>\n",
              "</div>"
            ],
            "text/plain": [
              "    Rank                        Team  Gold  ...  Bronze  Total  Rank by Total\n",
              "0      1    United States of America    39  ...      33    113              1\n",
              "1      2  People's Republic of China    38  ...      18     88              2\n",
              "2      3                       Japan    27  ...      17     58              5\n",
              "3      4               Great Britain    22  ...      22     65              4\n",
              "4      5                         ROC    20  ...      23     71              3\n",
              "..   ...                         ...   ...  ...     ...    ...            ...\n",
              "88    86                       Ghana     0  ...       1      1             77\n",
              "89    86                     Grenada     0  ...       1      1             77\n",
              "90    86                      Kuwait     0  ...       1      1             77\n",
              "91    86         Republic of Moldova     0  ...       1      1             77\n",
              "92    86        Syrian Arab Republic     0  ...       1      1             77\n",
              "\n",
              "[93 rows x 7 columns]"
            ]
          },
          "metadata": {},
          "execution_count": 32
        }
      ]
    }
  ]
}