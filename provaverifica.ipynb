{
  "nbformat": 4,
  "nbformat_minor": 0,
  "metadata": {
    "colab": {
      "name": "provaverifica.ipynb",
      "provenance": []
    },
    "kernelspec": {
      "name": "python3",
      "display_name": "Python 3"
    },
    "language_info": {
      "name": "python"
    }
  },
  "cells": [
    {
      "cell_type": "markdown",
      "metadata": {
        "id": "cWzLi2v6Vq_o"
      },
      "source": [
        "1. scrivere un programma che permetta all'utente di inserire tre valori e visualizzi quello intermedio.\n"
      ]
    },
    {
      "cell_type": "code",
      "metadata": {
        "id": "BSIydDmqVr0R"
      },
      "source": [
        "num1 = int(input(\"inserisci valore 1: \"))\n",
        "num2 = int(input(\"inserisci valore 2: \"))\n",
        "num3 = int(input(\"inserisci valore 3: \"))\n",
        "\n",
        "if num1 < num2 < num3:\n",
        "  print(num2)\n",
        "elif num3 < num1 < num2:\n",
        "  print(num1)\n",
        "else:\n",
        "  print(num3)"
      ],
      "execution_count": null,
      "outputs": []
    },
    {
      "cell_type": "markdown",
      "metadata": {
        "id": "mDkVsnpeXP60"
      },
      "source": [
        "2. scrivere un programma che permetta all'utente di caricare una lista di numeri interi ed un valore e carichi in un'altra lista tutti gli elementi della prima lista che sono multipli del valore inserito. Al termnine visualizzare entrambe le liste."
      ]
    },
    {
      "cell_type": "code",
      "metadata": {
        "id": "D4gi5xO-XUH8"
      },
      "source": [
        "lista = [int(ele) for ele in input(\"inserire i numeri\").split()]\n",
        "valore = int(input(\"inserire un valore\"))\n",
        "listafinale = []\n",
        "for numero in lista:\n",
        " if numero% valore ==0:\n",
        "  lista.append(numero)\n",
        "  print(listafinale)\n",
        "  "
      ],
      "execution_count": null,
      "outputs": []
    },
    {
      "cell_type": "markdown",
      "metadata": {
        "id": "J7X9Tp8cZm7r"
      },
      "source": [
        "3. scrivere un programma che permetta all'utente di memorizzare in un dizionario i numeri di telefono dei propri amici. L'utente deve poter inserire i nomi e i numeri."
      ]
    },
    {
      "cell_type": "code",
      "metadata": {
        "id": "sDd20wi3ZqZs"
      },
      "source": [
        "rubrica = {'nome:' 'numero:'}\n",
        "nomi = [(input('nome'))for in range(0,2)] \n",
        "numeri = [(input('numero'))for in range(0,2)] \n"
      ],
      "execution_count": null,
      "outputs": []
    },
    {
      "cell_type": "markdown",
      "metadata": {
        "id": "pQq3YNgIb5xO"
      },
      "source": [
        "4. scrivere un programma che dato il dizionario dell'esercizio precedente, permetta all'utente di inserire un nome e avere il numero di telefono corrispondente"
      ]
    },
    {
      "cell_type": "code",
      "metadata": {
        "id": "WiG7bwfPb9QG"
      },
      "source": [
        "cercanumero = (input(\"inserisci nome\"))\n",
        "print('numero'[cercanumero]) "
      ],
      "execution_count": null,
      "outputs": []
    },
    {
      "cell_type": "markdown",
      "metadata": {
        "id": "8L6qk44KcS7D"
      },
      "source": [
        "5. scrivere una funzione che dato il raggio calcoli la superficie del cerchio avente quel raggio. Chiamare al funzione superficie,. Il valore di ritorno deve avere tre cifre decimali."
      ]
    },
    {
      "cell_type": "code",
      "metadata": {
        "id": "-M8z7dMFcWBh"
      },
      "source": [
        "def superficie*(r): \n",
        "  retur r**2 math.pi \n",
        " superficie(int(input(\"inserisci il raggio\")))"
      ],
      "execution_count": null,
      "outputs": []
    },
    {
      "cell_type": "markdown",
      "metadata": {
        "id": "1mu5v5neb5yX"
      },
      "source": [
        "6. scrivere una funzione che, utilizzando la funzione superficie dell'esercizio precedente, permetta di calcolare il volume di un cilindro dato il raggio e l'altezza. Chiamare la funzione volume. "
      ]
    },
    {
      "cell_type": "code",
      "metadata": {
        "id": "m456NN1VgZhf"
      },
      "source": [
        "def volume (r,h):\n",
        "  return superficie(r)*h\n",
        "  print(volume(5,10))"
      ],
      "execution_count": 24,
      "outputs": []
    },
    {
      "cell_type": "markdown",
      "metadata": {
        "id": "wxOmxkPBgvZz"
      },
      "source": [
        "7. scrivere un programma che permetta di decrementare tutti gli elementi di una lista utilizzando una lambda function e la funzione map(). Far inserire all'utente gli elementi della lista."
      ]
    },
    {
      "cell_type": "code",
      "metadata": {
        "colab": {
          "base_uri": "https://localhost:8080/"
        },
        "id": "ADa8XG5ThbBs",
        "outputId": "3d5105dd-436a-402a-9a69-01742bf3fbdf"
      },
      "source": [
        "numeri = [int(s)for s in input(\"inserire valore\").split()]\n",
        "numeripari = list(map(lambda x:x - 1,numeri))\n",
        "print(numeripari,numeri)"
      ],
      "execution_count": 26,
      "outputs": [
        {
          "output_type": "stream",
          "name": "stdout",
          "text": [
            "inserire valore2 5 6 7 8 9\n",
            "[1, 4, 5, 6, 7, 8] [2, 5, 6, 7, 8, 9]\n"
          ]
        }
      ]
    },
    {
      "cell_type": "markdown",
      "metadata": {
        "id": "qItl-07NhYsE"
      },
      "source": [
        "8. scrivere un programma che permetta di estrarre da una lista tutti i valori pari utilizzando una lambda function e la funzione filter(). Far inserire all'utente gli elementi della lista.\n"
      ]
    },
    {
      "cell_type": "code",
      "metadata": {
        "colab": {
          "base_uri": "https://localhost:8080/"
        },
        "id": "gV0FE0ItgwEN",
        "outputId": "ea714562-2183-453a-da8a-160a3b060556"
      },
      "source": [
        "numeri = [int(s)for s in input(\"inserire valore\").split()]\n",
        "numeripari = list(filter(lambda x: x%2 ==0,numeri))\n",
        "print(numeripari)"
      ],
      "execution_count": 25,
      "outputs": [
        {
          "output_type": "stream",
          "name": "stdout",
          "text": [
            "inserire valore2 3 4 5 6 7\n",
            "[2, 4, 6]\n"
          ]
        }
      ]
    },
    {
      "cell_type": "markdown",
      "metadata": {
        "id": "IO_9cZawh0TB"
      },
      "source": [
        "9. scrivere una funzione ricorsiva per calcolare l'elevamento a potenza di un numero intero. La funzione ha due paramentri: numero ed esponente\n"
      ]
    },
    {
      "cell_type": "code",
      "metadata": {
        "id": "gOZ3g3eeh2bj"
      },
      "source": [
        "def potenza(base,esponente):\n",
        "  if esponente ==0:\n",
        "    return 1\n",
        "  else:\n",
        "    return base*potenza(base,esponente - 1)\n",
        "\n"
      ],
      "execution_count": 29,
      "outputs": []
    }
  ]
}