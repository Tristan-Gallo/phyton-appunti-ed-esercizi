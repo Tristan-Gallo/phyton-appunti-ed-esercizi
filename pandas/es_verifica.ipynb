{
  "nbformat": 4,
  "nbformat_minor": 0,
  "metadata": {
    "colab": {
      "name": "es verifica.ipynb",
      "provenance": [],
      "collapsed_sections": []
    },
    "kernelspec": {
      "name": "python3",
      "display_name": "Python 3"
    },
    "language_info": {
      "name": "python"
    }
  },
  "cells": [
    {
      "cell_type": "code",
      "source": [
        "alpha(0,n)#Vedere la parte di mappa sbiadita\n",
        "edgecolor='una qualsiasi lettera'#colorazione del bordo di una parte di mappa\n",
        "facecolor='none'#rendere visibile la parte di area presa in considerazione\n",
        "linewidth=3#larghezza della linea\n",
        "#!pip install contextily\n",
        "#import contextily as ctx\n",
        "ax = regioni.to_crs(epsg=3857).plot(edgecolor='blue',facecolor='none')\n",
        "ctx.add_basemap(ax)# caricare l esercizio su una mappa reale\n",
        "figsize()#ingrandire una figura\n",
        "comuni = geopandas.read_file('/content/drive/MyDrive/Colab Notebooks/Limiti01012021_g/Com01012021_g')#caricare un geopandas file\n",
        "com_milano = comuni.loc[comuni['COMUNE'] == 'Milano']#prendere il 'comune Milano' all interno del geopanads file 'comuni'\n"
      ],
      "metadata": {
        "id": "JguL1N3YJ0kC"
      },
      "execution_count": null,
      "outputs": []
    },
    {
      "cell_type": "code",
      "source": [
        "districts2 = districts[districts['population']<500000]#scrivere il codice per avere i distretti di parigi che hanno meno di 500k abitanti\n",
        "countries = countries[(countries['name'] != \"Antarctica\")]#creare un nuovo geopandas file escludendo qualcosa\n",
        ".plot(markersize=5)#aumenta la grandezza dei punti su una mappa\n",
        "belgium = countries.loc[countries['name'] == 'Belgium', 'geometry'].squeeze() #estrae la geometria"
      ],
      "metadata": {
        "id": "T-kcIcUCPqHy"
      },
      "execution_count": null,
      "outputs": []
    },
    {
      "cell_type": "code",
      "source": [
        "#far inserire all'utente una provincia della Lombardia e visualizzare tutte le province lombarde confinanti. Controllare che la provincia inserita sia effettivamente in Lombardia.\n",
        "utente = input('Inserire una provincia della Lombardia: ')\n",
        "lst = list(prov_lombardia['DEN_UTS'])\n",
        "if utente not in lst:\n",
        "  print('Provincia non in Lombardia')\n",
        "else:\n",
        "  prov = prov_lombardia[prov_lombardia['DEN_UTS'] == utente].geometry.squeeze()\n",
        "  prov2 = prov_lombardia[prov_lombardia['DEN_UTS'] == utente]\n",
        "  ax = prov_lombardia[prov_lombardia.touches(prov)].to_crs(epsg=3857).plot(edgecolor='k',alpha=0.5,figsize=(15,10))\n",
        "  prov2.to_crs(epsg=3857).plot(ax=ax, edgecolor='r',alpha=0.5)\n",
        "  ctx.add_basemap(ax)"
      ],
      "metadata": {
        "id": "s_OKUvM9N02S"
      },
      "execution_count": null,
      "outputs": []
    },
    {
      "cell_type": "code",
      "execution_count": null,
      "metadata": {
        "id": "pARxbai7fQOT"
      },
      "outputs": [],
      "source": [
        "ax.set(xlim=, ylim=)#da coordinate x e y\n",
        "countries.geometry.area#area di un poligono"
      ]
    },
    {
      "cell_type": "code",
      "source": [
        ".to_crs(epsg=3857)#convertiva il crs\n",
        "countries.crs#controllare il crs\n",
        "unary_union#per trasformare in figure piu oggetti\n",
        "geometry.squueze()#per trasformare un oggetto in una figuara(solo 1)"
      ],
      "metadata": {
        "id": "888WQLYbLkS9"
      },
      "execution_count": null,
      "outputs": []
    },
    {
      "cell_type": "code",
      "source": [
        "milano=province[province.DEN_UTS == 'Milano']#prnede milano\n",
        "corsi_milano = corsi[corsi.intersects(milano.unary_union)]#fiumi che cappano per la provincia milano\n",
        "ax = corsi_milano.sort_values('SHAPE_LEN',ascending=False).head(10).to_crs(epsg=3857).plot()#in ordine decrescente in base a una colonna prendere i primi dieci e convertire il crs\n",
        "ctx.add_basemap(ax)\n",
        "df[df.colum.str.contains('Nome') ].to_crs(epsg=3857).plot()#prendere dalla colonna il nome e convertirlo"
      ],
      "metadata": {
        "id": "M0_7ZifNP1gx"
      },
      "execution_count": null,
      "outputs": []
    },
    {
      "cell_type": "code",
      "source": [
        "brussels.within(belgium)#brussels e dentro belgio\n",
        "belgium.contains(brussels)#belgio contiene bruzzel\n",
        "line.intersects(belgium)#interseca \n",
        "touches#confina\n",
        "crosses#incricia"
      ],
      "metadata": {
        "id": "wnhOhj_kQngr"
      },
      "execution_count": null,
      "outputs": []
    }
  ]
}