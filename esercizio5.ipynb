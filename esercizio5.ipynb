{
  "nbformat": 4,
  "nbformat_minor": 0,
  "metadata": {
    "colab": {
      "name": "esercizio5.ipynb",
      "provenance": [],
      "collapsed_sections": []
    },
    "kernelspec": {
      "name": "python3",
      "display_name": "Python 3"
    },
    "language_info": {
      "name": "python"
    }
  },
  "cells": [
    {
      "cell_type": "markdown",
      "metadata": {
        "id": "maMZu2BoZmo6"
      },
      "source": [
        "1. scrivere una funzione chiamata max che dati due numeri restituisca il più grande. Scrivere poi un programma che, utilizzando la funzione creata, trovi il massimo tra tre numeri inseriti dall'utente. "
      ]
    },
    {
      "cell_type": "code",
      "metadata": {
        "colab": {
          "base_uri": "https://localhost:8080/"
        },
        "id": "br78qKdvZp4R",
        "outputId": "516d2d8b-8f43-4dfa-b7a9-21cc2d06ea43"
      },
      "source": [
        "def max(x,y):\n",
        "  if x > y:\n",
        "    return x\n",
        "  else:\n",
        "    return y\n",
        "num1= int(input())\n",
        "num2= int(input())\n",
        "num3= int(input())\n",
        "temp = max(num1,num2)\n",
        "print(\"il numero più grande è\", max(temp,num3))"
      ],
      "execution_count": null,
      "outputs": [
        {
          "output_type": "stream",
          "name": "stdout",
          "text": [
            "11\n",
            "34\n",
            "65\n",
            "il numero più grande è 65\n"
          ]
        }
      ]
    },
    {
      "cell_type": "markdown",
      "metadata": {
        "id": "n-9-R1e9ZyHI"
      },
      "source": [
        "\n",
        "2. scrivere una funzione chiamata sommaLista che data una lista di interi restituisca la somma di tutti gli elementi della lista. Scrivere poi un programma che, utilizzando la funzione create, trovi la somma degli elementi di una lista inserita dall'utente. "
      ]
    },
    {
      "cell_type": "code",
      "metadata": {
        "colab": {
          "base_uri": "https://localhost:8080/"
        },
        "id": "nij-5kW0aVRw",
        "outputId": "532ec29f-195c-4ac9-ef83-dff25105652c"
      },
      "source": [
        "def sommalista(lista2):\n",
        "  somma = 0\n",
        "  for i in range(len(lista2)):\n",
        "    somma = somma + lista2[i] \n",
        "  return somma\n",
        "\n",
        "lista = list()\n",
        "dimLista = int(input(\"inserisci la dimensione\"))\n",
        "j = 0\n",
        "while j < dimLista:\n",
        "  lista.append(int(input(\"inserisci un elemento\")))\n",
        "  j += 1\n",
        "print(\"la somma degli elementi della lista è\", sommalista(lista))"
      ],
      "execution_count": null,
      "outputs": [
        {
          "output_type": "stream",
          "name": "stdout",
          "text": [
            "inserisci la dimensione2\n",
            "inserisci un elemento5\n",
            "inserisci un elemento5\n",
            "la somma degli elementi della lista è 10\n"
          ]
        }
      ]
    },
    {
      "cell_type": "markdown",
      "metadata": {
        "id": "7gthKL2gbZLb"
      },
      "source": [
        "3. utilizzando le funzioni create precedentemente, scrivere un programma che permetta all'utente di inserire tre liste e di avere il valore massimo della somma degli elementi delle tre liste.\n"
      ]
    },
    {
      "cell_type": "code",
      "metadata": {
        "id": "C9SGdx-9baIY"
      },
      "source": [
        "lista4 = list()\n",
        "dimLista4 = int(input(\"inserisci la dimensione\"))\n",
        "j = 0\n",
        "while j < dimLista4:\n",
        "  lista4.append(int(input(\"inserisci un elemento\")))\n",
        "  j += 1\n",
        "\n",
        "lista5 = list()\n",
        "dimLista5 = int(input(\"inserisci la dimensione\"))\n",
        "j = 0\n",
        "while j < dimLista5:\n",
        "  lista5.append(int(input(\"inserisci un elemento\")))\n",
        "  j += 1\n",
        "\n",
        "lista6 = list()\n",
        "dimLista6 = int(input(\"inserisci la dimensione\"))\n",
        "j = 0\n",
        "while j < dimLista6:\n",
        "  lista6.append(int(input(\"inserisci un elemento\")))\n",
        "  j += 1\n",
        "\n",
        "s4 = sommalista(lista4)\n",
        "s5 = sommalista(lista5)\n",
        "s6 = sommalista(lista6)\n",
        "\n",
        "temp = max(s4,s5)\n",
        "print(\"il numero più grande è\", max(temp,s6))"
      ],
      "execution_count": null,
      "outputs": []
    },
    {
      "cell_type": "markdown",
      "metadata": {
        "id": "eHywqKY7cHdR"
      },
      "source": [
        "4. scrivere una funzione chiamata controlla che dato un numero e due estremi restituisca True se il numero è compreso tra i due estremi, false altrimenti. Utilizzare poi la funzione per trovare il numero di elementi di una lista di numeri interi (inserita dall'utente) compresi tra due estremi (inseriti anch'essi dall'utente)\n"
      ]
    },
    {
      "cell_type": "code",
      "metadata": {
        "id": "y_lYJiLPcH3g"
      },
      "source": [
        ""
      ],
      "execution_count": null,
      "outputs": []
    },
    {
      "cell_type": "markdown",
      "metadata": {
        "id": "7QdKBmP-cKvV"
      },
      "source": [
        "5. utilizzare la funzione controlla creata precedentemente per scrivere un programma che, data una lista di numeri interi inserita  dall'utente, carichi in un'altra lista i numeri compresi tra due estremi inseriti anch'essi dall'utente."
      ]
    },
    {
      "cell_type": "code",
      "metadata": {
        "id": "Jw4qNz5fcNak"
      },
      "source": [
        ""
      ],
      "execution_count": null,
      "outputs": []
    },
    {
      "cell_type": "markdown",
      "metadata": {
        "id": "ky6C6MXwcNmM"
      },
      "source": [
        "6. scrivere una funzione chiamata confrontaListe che date due liste restituisca True se le due liste sono uguali, False altrimenti. Utilizzare poi la funzione in un programma che dica se una lista di interi è palindroma, cioè se può essere letta indifferentemente da sinistra a destra e da destra a sinistra. Ad esempio la lista [1, 2, 3, 4, 3, 2, 1] è palindroma, la lista [1, 2, 3, 4, 3,1, 2] non lo è."
      ]
    },
    {
      "cell_type": "code",
      "metadata": {
        "id": "9Aq4fxXVcPXw"
      },
      "source": [
        ""
      ],
      "execution_count": null,
      "outputs": []
    },
    {
      "cell_type": "markdown",
      "metadata": {
        "id": "IAIrf6JNcRG8"
      },
      "source": [
        "7. scrivere una funzione chiamata celsiusToFahrenheit che data una temperatura in gradi Celsius restituisca il valore convertito in gradi Fahrenheit (per ulteriori info, google it). Scrivere poi un programma che data una lista di temperature in gradi Celsius,inserita dall'utente, converta tutte le temperature in gradi Fahrenheit."
      ]
    },
    {
      "cell_type": "code",
      "metadata": {
        "colab": {
          "base_uri": "https://localhost:8080/"
        },
        "id": "DlqGysWXcTXk",
        "outputId": "ff9eb5f4-9533-4461-8e4f-4836c3fea91e"
      },
      "source": [
        "lista = input(\"Inserire un valore in Celsius: \").split(' ')\n",
        "\n",
        "def celsiusToFahrenheit(x):\n",
        "  return round(x * (1.8) + 32)\n",
        "\n",
        "print([celsiusToFahrenheit(int(x)) for x in lista])"
      ],
      "execution_count": null,
      "outputs": [
        {
          "output_type": "stream",
          "name": "stdout",
          "text": [
            "Inserire un valore in Celsius: 3\n",
            "[37]\n"
          ]
        }
      ]
    },
    {
      "cell_type": "markdown",
      "metadata": {
        "id": "WYj1o6PccTfD"
      },
      "source": [
        "\n",
        "8. scrivere una funzione chiamata IMC che calcoli l'Indice di Massa Corporea a partire dal peso (in kg) e dall'altezza (in m). Utilizzare poi la funzione per scrivere un programma che date tre liste, contenente la prima una serie di nomi, la seconda una serie di pesi e la terza una serie di altezze, produca una quarta lista contenente i valori di IMC corrispondenti. Visualizzare poi i risultati nel seguente modo: \"<nome> pesa <peso kg, misura <altezza> m ed ha un IMC di <IMC>\" ( i valori nelle parentesi angolari vanno presi ovviamente dalle liste)\n"
      ]
    },
    {
      "cell_type": "code",
      "metadata": {
        "id": "_Iny96CJcV_F"
      },
      "source": [
        ""
      ],
      "execution_count": null,
      "outputs": []
    },
    {
      "cell_type": "markdown",
      "metadata": {
        "id": "7VRcI8pZcWaL"
      },
      "source": [
        "9: scrivere una lambda function per estrarre da una lista di numeri interi tutti i valori pari."
      ]
    },
    {
      "cell_type": "code",
      "metadata": {
        "colab": {
          "base_uri": "https://localhost:8080/"
        },
        "id": "OhNRBjV7mf3d",
        "outputId": "d78a5004-6641-4c83-be29-a5e828306bcf"
      },
      "source": [
        "LNumeri1 = [1,2,3,4,5,6,7,8,9]\n",
        "risultato = lambda l: [n for n in l if n%2 == 0]\n",
        "print(risultato(LNumeri1))"
      ],
      "execution_count": null,
      "outputs": [
        {
          "output_type": "stream",
          "name": "stdout",
          "text": [
            "[2, 4, 6, 8]\n"
          ]
        }
      ]
    }
  ]
}