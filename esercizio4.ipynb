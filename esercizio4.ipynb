{
  "nbformat": 4,
  "nbformat_minor": 0,
  "metadata": {
    "colab": {
      "name": "esercizio4.ipynb",
      "provenance": [],
      "collapsed_sections": []
    },
    "kernelspec": {
      "name": "python3",
      "display_name": "Python 3"
    },
    "language_info": {
      "name": "python"
    }
  },
  "cells": [
    {
      "cell_type": "markdown",
      "metadata": {
        "id": "Hvbkq4aEsn_J"
      },
      "source": [
        "\n",
        "1. scrivere una funzione chiamata media che dati due numeri restituisca la media. Utilizzare poi la funzione in un programma che acquisisca dall'utente due numeri e calcoli la media\n"
      ]
    },
    {
      "cell_type": "code",
      "metadata": {
        "colab": {
          "base_uri": "https://localhost:8080/"
        },
        "id": "_OvEhFNrsqRh",
        "outputId": "585f3ad1-6033-473c-e1c3-3649d535faf4"
      },
      "source": [
        "def media(x,y):\n",
        "  z = x + y\n",
        "  z = z / 2\n",
        "  return z\n",
        "media(int(input(\"inserire il primo numero:\")), int(input(\"inserire il secondo numero:\")))\n"
      ],
      "execution_count": null,
      "outputs": [
        {
          "name": "stdout",
          "output_type": "stream",
          "text": [
            "inserire il primo numero:4\n",
            "inserire il secondo numero:2\n"
          ]
        },
        {
          "output_type": "execute_result",
          "data": {
            "text/plain": [
              "3.0"
            ]
          },
          "metadata": {},
          "execution_count": 6
        }
      ]
    },
    {
      "cell_type": "markdown",
      "metadata": {
        "id": "RTH8EGU6vUWJ"
      },
      "source": [
        "2. scrivere una funzione chiamata piuCorta che date due liste restituisca la lista con meno elementi. Utilizzare poi la funzione in un programma che acquisisca dall'utente due liste e visualizzi gli elementi della lista più corta."
      ]
    },
    {
      "cell_type": "code",
      "metadata": {
        "colab": {
          "base_uri": "https://localhost:8080/"
        },
        "id": "GJuGaP0_vZlg",
        "outputId": "c89204e3-fc18-4d64-8f36-2bbfbc8ccf1a"
      },
      "source": [
        "def piuCorta(c,b):\n",
        "  if len(c) < len(b):\n",
        "    return c \n",
        "  else:\n",
        "    return b\n",
        "c = ['1','2','3','4','5']\n",
        "b = ['2','3','4']\n",
        "print(\"la lista piu corta è:\" + str(piuCorta(c,b)))"
      ],
      "execution_count": null,
      "outputs": [
        {
          "output_type": "stream",
          "name": "stdout",
          "text": [
            "la lista piu corta è:['2', '3', '4']\n"
          ]
        }
      ]
    },
    {
      "cell_type": "markdown",
      "metadata": {
        "id": "S1ovqdQpvw7x"
      },
      "source": [
        "\n",
        "3. scrivere una funzione chiamata costruisciLista che dati due numeri interi restituisca la lista formata da tutti i numeri interi compresi tra i due numeri dati. Utilizzare poi la funzione in un programma che acquisisca dall'utente due numeri e visualizzi la lista formata da tutti i numeri interi compresi tra i due numeri dati ma a partire dal più grande fino al più piccolo.\n"
      ]
    },
    {
      "cell_type": "code",
      "metadata": {
        "colab": {
          "base_uri": "https://localhost:8080/"
        },
        "id": "-Z0mVWrcv0yA",
        "outputId": "d19d2fc0-de9f-44c2-d097-c0c587cc5279"
      },
      "source": [
        "def costruisciLista(x,y):\n",
        "  z = [i for i in range(x+1,y)]\n",
        "  z.reverse()\n",
        "  return z\n",
        "costruisciLista(int(input(\"inserire il primo numero: \")), int(input(\"inserire il secondo numero:\")))"
      ],
      "execution_count": null,
      "outputs": [
        {
          "name": "stdout",
          "output_type": "stream",
          "text": [
            "inserire il primo numero: 10\n",
            "inserire il secondo numero:20\n"
          ]
        },
        {
          "output_type": "execute_result",
          "data": {
            "text/plain": [
              "[19, 18, 17, 16, 15, 14, 13, 12, 11]"
            ]
          },
          "metadata": {},
          "execution_count": 20
        }
      ]
    },
    {
      "cell_type": "markdown",
      "metadata": {
        "id": "Ladv8KW0v1EJ"
      },
      "source": [
        "\n",
        "4. scrivere una funzione chiamata valoreAssoluto che dato un numero restituisca il suo valore assoluto. Utilizzare poi questa funzione per determinare il valore assoluto degli elementi di una lista inserita dall'utente.\n",
        "\n"
      ]
    },
    {
      "cell_type": "code",
      "metadata": {
        "id": "UBQnUZxav4ex",
        "colab": {
          "base_uri": "https://localhost:8080/"
        },
        "outputId": "a5a77f5a-1e87-4d58-e598-6b3b2b19ab1c"
      },
      "source": [
        "arr = input('inserisci la prima lista:').split(',')\n",
        "\n",
        "def valore_assoluto(n):\n",
        "    return abs(n)\n",
        "\n",
        "print([valore_assoluto(float(i))for i in arr])\n"
      ],
      "execution_count": null,
      "outputs": [
        {
          "output_type": "stream",
          "name": "stdout",
          "text": [
            "inserisci la prima lista:-1\n",
            "[1.0]\n"
          ]
        }
      ]
    },
    {
      "cell_type": "markdown",
      "metadata": {
        "id": "Nfj2N70nv42h"
      },
      "source": [
        "5. scrivere una funzione chiamata scambia che data una lista scambi il primo elemento con l'ultimo, il secondo con il penultimo e così via. Utilizzare poi la funzione in un programma che acquisisca dall'utente una lista di 10 elementi e li visualizzi scambiati.\n"
      ]
    },
    {
      "cell_type": "code",
      "metadata": {
        "id": "QPTsVA3Av7CZ",
        "colab": {
          "base_uri": "https://localhost:8080/"
        },
        "outputId": "90277eea-db09-4273-888f-5362e8e32b23"
      },
      "source": [
        "def scambia(lst):\n",
        "   lstcopia= lst[:]\n",
        "   for i in range(10):\n",
        "     lst[i] = lstcopia[9-i]\n",
        "   return lst\n",
        "\n",
        "lst = [input('inserisci un elemento:')for i in range(10)]\n",
        "print(scambia(lst))"
      ],
      "execution_count": null,
      "outputs": [
        {
          "output_type": "stream",
          "name": "stdout",
          "text": [
            "inserisci un elemento:ciao\n",
            "inserisci un elemento:bela\n",
            "inserisci un elemento:d\n",
            "inserisci un elemento:3\n",
            "inserisci un elemento:2\n",
            "inserisci un elemento:4\n",
            "inserisci un elemento:6\n",
            "inserisci un elemento:7\n",
            "inserisci un elemento:8\n",
            "inserisci un elemento:4\n",
            "['4', '8', '7', '6', '4', '2', '3', 'd', 'bela', 'ciao']\n"
          ]
        }
      ]
    },
    {
      "cell_type": "markdown",
      "metadata": {
        "id": "Bg6zw9jpv9CQ"
      },
      "source": [
        "6. scrivere una funzione lambda che dati due numeri calcoli la loro somma. Utilizzare la funzione in un programma che chieda all'utente due numeri interi e visualizzi la loro somma.\n",
        "\n"
      ]
    },
    {
      "cell_type": "code",
      "metadata": {
        "id": "xZx7C6C3v_Ph",
        "colab": {
          "base_uri": "https://localhost:8080/"
        },
        "outputId": "d850fdfa-217e-479d-c925-5abc84248e0a"
      },
      "source": [
        "l = lambda x,y: x + y\n",
        "l(int(input('')), int(input('')))\n",
        "    "
      ],
      "execution_count": null,
      "outputs": [
        {
          "name": "stdout",
          "output_type": "stream",
          "text": [
            "5\n",
            "5\n"
          ]
        },
        {
          "output_type": "execute_result",
          "data": {
            "text/plain": [
              "10"
            ]
          },
          "metadata": {},
          "execution_count": 12
        }
      ]
    },
    {
      "cell_type": "markdown",
      "metadata": {
        "id": "5ELVFZXPv_b4"
      },
      "source": [
        "7. scrivere un programma che utilizzi una lambda function per aumentare di 10 unità tutti gli elementi di una lista di interi inserita dall'utente.\n"
      ]
    },
    {
      "cell_type": "code",
      "metadata": {
        "id": "3uAYvBLCwASg",
        "colab": {
          "base_uri": "https://localhost:8080/"
        },
        "outputId": "a6c1a64d-94b8-417a-af4e-975f061319c4"
      },
      "source": [
        "lista1 = [5,10,20,40]\n",
        "lista = list(map(lambda x: x + 10, lista1))\n",
        "print(lista)"
      ],
      "execution_count": null,
      "outputs": [
        {
          "output_type": "stream",
          "name": "stdout",
          "text": [
            "[15, 20, 30, 50]\n"
          ]
        }
      ]
    },
    {
      "cell_type": "markdown",
      "metadata": {
        "id": "-mo4MDzMwCfI"
      },
      "source": [
        "\n",
        "8. scrivere una funzione lambda che sostituisca il valore 0 se il parametro è negativo, il valore del parametro se è positivo. Utilizzare poi la funzione in un programma che chieda all'utente i 10 elementi di una lista e visualizzi la lista con il valore 0 al posto dei numeri negativi.\n"
      ]
    },
    {
      "cell_type": "code",
      "metadata": {
        "id": "NUzG6tUHwDG3",
        "colab": {
          "base_uri": "https://localhost:8080/"
        },
        "outputId": "599d5e2a-72a2-41f9-ba7e-83fcec0e6c63"
      },
      "source": [
        "lista1 = [-2, 5, -4, 6, 8, -13, 4, 16]\n",
        "lista = list(map(lambda x: x + 10, lista1))\n",
        "print(lista)"
      ],
      "execution_count": null,
      "outputs": [
        {
          "output_type": "stream",
          "name": "stdout",
          "text": [
            "[8, 15, 6, 16, 18, -3, 14, 26]\n"
          ]
        }
      ]
    },
    {
      "cell_type": "markdown",
      "metadata": {
        "id": "DeAOXrinwDhi"
      },
      "source": [
        "9. scrivere un programma che calcoli il fattoriale di un numero utilizzando una lambda function. Provare a realizzare una lambda function ricorsiva (per la ricorsione, google it...)"
      ]
    },
    {
      "cell_type": "code",
      "metadata": {
        "colab": {
          "base_uri": "https://localhost:8080/"
        },
        "id": "BKZPrG2O8IGd",
        "outputId": "27bd5e8e-77d3-4608-f5c9-630154e33ee1"
      },
      "source": [
        "x = lambda num : 1 if num <= 1 else num*x(num-1)\n",
        "number = int(input('enter number:'))\n",
        "print('%d != %d' %(number, x(number)))"
      ],
      "execution_count": null,
      "outputs": [
        {
          "output_type": "stream",
          "name": "stdout",
          "text": [
            "enter number:6\n",
            "6 != 720\n"
          ]
        }
      ]
    }
  ]
}