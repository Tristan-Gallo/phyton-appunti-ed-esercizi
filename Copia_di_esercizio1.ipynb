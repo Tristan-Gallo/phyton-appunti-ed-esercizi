{
  "nbformat": 4,
  "nbformat_minor": 0,
  "metadata": {
    "colab": {
      "name": "Copia di esercizio1.ipynb",
      "provenance": [],
      "collapsed_sections": []
    },
    "kernelspec": {
      "name": "python3",
      "display_name": "Python 3"
    },
    "language_info": {
      "name": "python"
    }
  },
  "cells": [
    {
      "cell_type": "markdown",
      "metadata": {
        "id": "Wsl7RfethS3y"
      },
      "source": [
        "a. far inserie all'utente due valori interi"
      ]
    },
    {
      "cell_type": "code",
      "metadata": {
        "colab": {
          "base_uri": "https://localhost:8080/"
        },
        "id": "5tptj1GZgL9g",
        "outputId": "a34cd02a-14c9-4462-ef2a-88285d64791a"
      },
      "source": [
        "a = int(input(\"inserire il numero 1 :\"))\n",
        "b = int(input(\"inserire il numero 2:\")"
      ],
      "execution_count": null,
      "outputs": [
        {
          "name": "stdout",
          "output_type": "stream",
          "text": [
            "inserire il numero 1 :12\n",
            "inserire il numero 2:45\n"
          ]
        }
      ]
    },
    {
      "cell_type": "markdown",
      "metadata": {
        "id": "igGI7IWoheUj"
      },
      "source": [
        "b. effettuare le 4 operazioni aritmetiche tra i due numeri"
      ]
    },
    {
      "cell_type": "code",
      "metadata": {
        "colab": {
          "base_uri": "https://localhost:8080/"
        },
        "id": "cMX2PG43hkl7",
        "outputId": "bbb6dc6e-fde9-4e29-dd48-e1f0d80b23b4"
      },
      "source": [
        "som = a + b\n",
        "sot = a - b\n",
        "mol = a * b\n",
        "div = a / b\n",
        "print (som,sot,mol,div)"
      ],
      "execution_count": null,
      "outputs": [
        {
          "output_type": "stream",
          "name": "stdout",
          "text": [
            "57 -33 540 0.26666666666666666\n"
          ]
        }
      ]
    },
    {
      "cell_type": "markdown",
      "metadata": {
        "id": "kUqEym-2h_sD"
      },
      "source": [
        "c. effettuare l'elevamento a potenza del primo numero per il secondo"
      ]
    },
    {
      "cell_type": "code",
      "metadata": {
        "colab": {
          "base_uri": "https://localhost:8080/"
        },
        "id": "bqzTr5Z2iAvr",
        "outputId": "0eea51e9-42d7-4243-c690-a4b62d4eb75b"
      },
      "source": [
        " pot = pow(a, b)\n",
        " print(pot)"
      ],
      "execution_count": null,
      "outputs": [
        {
          "output_type": "stream",
          "name": "stdout",
          "text": [
            "3657261988008837196714082302655030834027437228032\n"
          ]
        }
      ]
    },
    {
      "cell_type": "markdown",
      "metadata": {
        "id": "_sH-suyziWoS"
      },
      "source": [
        "d. effettuare il calcolo del resto della divisione tra il primo e il secondo numero"
      ]
    },
    {
      "cell_type": "code",
      "metadata": {
        "colab": {
          "base_uri": "https://localhost:8080/"
        },
        "id": "az70umYXiwx9",
        "outputId": "b74893a8-fa57-4b22-92d6-7b4fe5378e08"
      },
      "source": [
        "rest = a % b\n",
        "print(rest)"
      ],
      "execution_count": null,
      "outputs": [
        {
          "output_type": "stream",
          "name": "stdout",
          "text": [
            "12\n"
          ]
        }
      ]
    },
    {
      "cell_type": "markdown",
      "metadata": {
        "id": "oh-Um5gKlEN7"
      },
      "source": [
        "f. effettuare il calcolo del resto della divisione tra il primo e il secondo numero"
      ]
    },
    {
      "cell_type": "code",
      "metadata": {
        "colab": {
          "base_uri": "https://localhost:8080/"
        },
        "id": "WOMzufNnlQxE",
        "outputId": "bbc6b49a-4917-4d2d-bb76-65b3eca74712"
      },
      "source": [
        "divIntera = a // b\n",
        "print(divIntera)"
      ],
      "execution_count": null,
      "outputs": [
        {
          "output_type": "stream",
          "name": "stdout",
          "text": [
            "0\n"
          ]
        }
      ]
    },
    {
      "cell_type": "markdown",
      "metadata": {
        "id": "CsNmP7IAlq7E"
      },
      "source": [
        "g. incrementare di una unità entrambi i numeri"
      ]
    },
    {
      "cell_type": "code",
      "metadata": {
        "colab": {
          "base_uri": "https://localhost:8080/"
        },
        "id": "lqaLATcJl5AU",
        "outputId": "6fedb0d7-03b0-4f8d-ea03-7b524bc26ba0"
      },
      "source": [
        "num1 = a + 1\n",
        "num2 = b + 1\n",
        "print(num1, num2)"
      ],
      "execution_count": null,
      "outputs": [
        {
          "output_type": "stream",
          "name": "stdout",
          "text": [
            "13 46\n"
          ]
        }
      ]
    },
    {
      "cell_type": "markdown",
      "metadata": {
        "id": "gWjn9zEDmWMa"
      },
      "source": [
        "h. far inserie all'utente due valori: il primo rappresenta la sua altezza (in metri) e il secondo rappresenta il suo peso (in kg). Visualizzare poi l'IMC (google it...)"
      ]
    },
    {
      "cell_type": "code",
      "metadata": {
        "colab": {
          "base_uri": "https://localhost:8080/"
        },
        "id": "GIkvvwLZmXJL",
        "outputId": "964757f5-1f7e-4f87-8fa2-09b6e9cc642d"
      },
      "source": [
        "h = str(input(\"inserire il numero 1 in m :\"))\n",
        "kg = str(input(\"inserire il numero 2 in kg:\"))\n",
        "#imc = 20.3"
      ],
      "execution_count": null,
      "outputs": [
        {
          "name": "stdout",
          "output_type": "stream",
          "text": [
            "inserire il numero 1 in m :1,83\n",
            "inserire il numero 2 in kg:68\n"
          ]
        }
      ]
    },
    {
      "cell_type": "markdown",
      "metadata": {
        "id": "DpyaIHaynLQj"
      },
      "source": [
        "i. arrotondare l'IMC precedente"
      ]
    },
    {
      "cell_type": "code",
      "metadata": {
        "colab": {
          "base_uri": "https://localhost:8080/"
        },
        "id": "3APgj7fjnQNG",
        "outputId": "b1d67ffa-2772-4e71-e286-7962be49b01d"
      },
      "source": [
        "imc = round(20,3)\n",
        "print(imc)"
      ],
      "execution_count": null,
      "outputs": [
        {
          "output_type": "stream",
          "name": "stdout",
          "text": [
            "20\n"
          ]
        }
      ]
    },
    {
      "cell_type": "markdown",
      "metadata": {
        "id": "18kBqS4upKRT"
      },
      "source": [
        "j. visualizzare il proprio nome, cognome, data di nascita e città di nascita separando le informazioni con un trattino."
      ]
    },
    {
      "cell_type": "code",
      "metadata": {
        "colab": {
          "base_uri": "https://localhost:8080/"
        },
        "id": "JZVcjmgLpLVb",
        "outputId": "d06b0fc5-ffa8-49cf-fc3b-fceb367347ff"
      },
      "source": [
        "nome = \"tristan\"\n",
        "cognome = \"gallo\"\n",
        "data = \"15/09/2004\"\n",
        "città = \"milano\"\n",
        "print(nome,cognome,data,città,sep= '-', end= '.')"
      ],
      "execution_count": null,
      "outputs": [
        {
          "output_type": "stream",
          "name": "stdout",
          "text": [
            "tristan-gallo-15/09/2004-milano."
          ]
        }
      ]
    },
    {
      "cell_type": "markdown",
      "metadata": {
        "id": "WqQZ3zqYvJu8"
      },
      "source": [
        "k. visualizzare le stesse informazioni per 10 volte di seguito"
      ]
    },
    {
      "cell_type": "code",
      "metadata": {
        "colab": {
          "base_uri": "https://localhost:8080/"
        },
        "id": "PycRXoZ6vKtz",
        "outputId": "6852c63c-3ad8-4122-d2a4-4028e9ce5ad4"
      },
      "source": [
        "nome = \"tristan\"\n",
        "cognome = \"gallo\"\n",
        "data = \"15/09/2004\"\n",
        "città = \"milano\"\n",
        "informazioni = (nome, cognome, data, città)\n",
        "print(informazioni *10)"
      ],
      "execution_count": 10,
      "outputs": [
        {
          "output_type": "stream",
          "name": "stdout",
          "text": [
            "('tristan', 'gallo', '15/09/2004', 'milano', 'tristan', 'gallo', '15/09/2004', 'milano', 'tristan', 'gallo', '15/09/2004', 'milano', 'tristan', 'gallo', '15/09/2004', 'milano', 'tristan', 'gallo', '15/09/2004', 'milano', 'tristan', 'gallo', '15/09/2004', 'milano', 'tristan', 'gallo', '15/09/2004', 'milano', 'tristan', 'gallo', '15/09/2004', 'milano', 'tristan', 'gallo', '15/09/2004', 'milano', 'tristan', 'gallo', '15/09/2004', 'milano')\n"
          ]
        }
      ]
    },
    {
      "cell_type": "markdown",
      "metadata": {
        "id": "__bcBZxuZxTU"
      },
      "source": [
        "l. assegnare il proprio nome e cognome ad una stringa e visualizzarla con tutte le lettere maiuscole"
      ]
    },
    {
      "cell_type": "code",
      "metadata": {
        "colab": {
          "base_uri": "https://localhost:8080/"
        },
        "id": "FLlZPr22Zzss",
        "outputId": "fc7f3f94-d4dc-4254-9ddb-e297b4a1ea26"
      },
      "source": [
        "s = nome \n",
        "s2 = cognome\n",
        "print('%s' % s.upper(), '%s' % s2.upper())"
      ],
      "execution_count": 26,
      "outputs": [
        {
          "output_type": "stream",
          "name": "stdout",
          "text": [
            "TRISTAN GALLO\n"
          ]
        }
      ]
    },
    {
      "cell_type": "markdown",
      "metadata": {
        "id": "GYRFOuXfeBsF"
      },
      "source": [
        "m. assegnare il proprio nome e cognome ad una stringa e visualizzarla con le prime lettere maiuscole\n"
      ]
    },
    {
      "cell_type": "code",
      "metadata": {
        "colab": {
          "base_uri": "https://localhost:8080/"
        },
        "id": "dWBobpgyeDwU",
        "outputId": "a8db5069-a628-42ff-f2af-a424a61ee6b3"
      },
      "source": [
        "string =  \"tristan gallo\"\n",
        "print (string.title())"
      ],
      "execution_count": 30,
      "outputs": [
        {
          "output_type": "stream",
          "name": "stdout",
          "text": [
            "Tristan Gallo\n"
          ]
        }
      ]
    },
    {
      "cell_type": "markdown",
      "metadata": {
        "id": "fS1PwUYWfT5J"
      },
      "source": [
        "n. assegnare il proprio nome e cognome ad una stringa e visualizzarne la lunghezza"
      ]
    },
    {
      "cell_type": "code",
      "metadata": {
        "colab": {
          "base_uri": "https://localhost:8080/"
        },
        "id": "1sgFTZyIfXF-",
        "outputId": "f713c5ec-546b-4d58-b0ac-b33f500b423a"
      },
      "source": [
        "string = \"tristan gallo\"\n",
        "lunghezza = len(string)\n",
        "print(lunghezza)"
      ],
      "execution_count": 32,
      "outputs": [
        {
          "output_type": "stream",
          "name": "stdout",
          "text": [
            "13\n"
          ]
        }
      ]
    },
    {
      "cell_type": "markdown",
      "metadata": {
        "id": "v3pIBb6Qfoc9"
      },
      "source": [
        "o. assegnare il proprio nome e cognome ad una stringa e contate quante vocali contiene\n"
      ]
    },
    {
      "cell_type": "code",
      "metadata": {
        "colab": {
          "base_uri": "https://localhost:8080/"
        },
        "id": "LVgJkpN4fr76",
        "outputId": "12b9dcb2-64b4-4759-fb74-cebda749f622"
      },
      "source": [
        "string = \"tristan gallo\"\n",
        "contatore = 0\n",
        "vocali = set('aeiou')\n",
        "for lettera in string.lower(): \n",
        "    if lettera in vocali:contatore = contatore + 1\n",
        "print(contatore)"
      ],
      "execution_count": 33,
      "outputs": [
        {
          "output_type": "stream",
          "name": "stdout",
          "text": [
            "4\n"
          ]
        }
      ]
    },
    {
      "cell_type": "markdown",
      "metadata": {
        "id": "wn-rmQS-gFhh"
      },
      "source": [
        "p. assegnare il proprio nome e cognome ad una stringa e visualizzare i primi 5 caratteri"
      ]
    },
    {
      "cell_type": "code",
      "metadata": {
        "colab": {
          "base_uri": "https://localhost:8080/"
        },
        "id": "g8nGWIXwgDKt",
        "outputId": "a6be4a55-dc96-4cf1-d7b3-01cc03ba0705"
      },
      "source": [
        "string = \"tristan gallo\"\n",
        "print(string[0:5])"
      ],
      "execution_count": 37,
      "outputs": [
        {
          "output_type": "stream",
          "name": "stdout",
          "text": [
            "trist\n"
          ]
        }
      ]
    },
    {
      "cell_type": "markdown",
      "metadata": {
        "id": "4xeCxuwehGr-"
      },
      "source": [
        "q. assegnare il proprio nome e cognome ad una stringa e visualizzare gli ultimi 5 caratteri"
      ]
    },
    {
      "cell_type": "code",
      "metadata": {
        "colab": {
          "base_uri": "https://localhost:8080/"
        },
        "id": "pJnKNPqbhIir",
        "outputId": "b31cdea9-b438-4783-8742-a05d31b25d28"
      },
      "source": [
        "string = \"tristan gallo\"\n",
        "print(string[8:13])\n"
      ],
      "execution_count": 38,
      "outputs": [
        {
          "output_type": "stream",
          "name": "stdout",
          "text": [
            "gallo\n"
          ]
        }
      ]
    },
    {
      "cell_type": "markdown",
      "metadata": {
        "id": "X6RyEN4Zhfdt"
      },
      "source": [
        "r. assegnare il proprio nome e cognome ad una stringa e visualizzare i 5 caratteri centrali"
      ]
    },
    {
      "cell_type": "code",
      "metadata": {
        "colab": {
          "base_uri": "https://localhost:8080/"
        },
        "id": "aXX9VeHMhhi8",
        "outputId": "e387ec5f-b829-43c5-8f36-62b6748f7067"
      },
      "source": [
        "string = \"tristan gallo\"\n",
        "print(string[4:9])"
      ],
      "execution_count": 40,
      "outputs": [
        {
          "output_type": "stream",
          "name": "stdout",
          "text": [
            "tan g\n"
          ]
        }
      ]
    },
    {
      "cell_type": "markdown",
      "metadata": {
        "id": "ql3VI_sbh1Ho"
      },
      "source": [
        "s. assegnare il proprio nome e cognome ad una stringa e sostituire le vocali con una X\n"
      ]
    },
    {
      "cell_type": "code",
      "metadata": {
        "colab": {
          "base_uri": "https://localhost:8080/"
        },
        "id": "WsZyegYYh2Ev",
        "outputId": "985a3b12-87b5-40b5-aae3-a887dcf9d8d9"
      },
      "source": [
        "s = \"tristan gallo\"\n",
        "sX=s.replace('a','X').replace('e','X').replace('i','X').replace('o','X')\n",
        "print(sX,)"
      ],
      "execution_count": 42,
      "outputs": [
        {
          "output_type": "stream",
          "name": "stdout",
          "text": [
            "trXstXn gXllX\n"
          ]
        }
      ]
    }
  ]
}