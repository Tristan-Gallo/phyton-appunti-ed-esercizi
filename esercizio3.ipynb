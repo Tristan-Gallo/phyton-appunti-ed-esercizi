{
  "nbformat": 4,
  "nbformat_minor": 0,
  "metadata": {
    "colab": {
      "name": "esercizio3.ipynb",
      "provenance": [],
      "collapsed_sections": []
    },
    "kernelspec": {
      "name": "python3",
      "display_name": "Python 3"
    },
    "language_info": {
      "name": "python"
    }
  },
  "cells": [
    {
      "cell_type": "markdown",
      "metadata": {
        "id": "v29qllmfwkrS"
      },
      "source": [
        "1. Scrivere un programma che crei un dizionario contenente i nomi delle regioni e i nomi dei loro\n",
        "capoluoghi. Il nome della regione deve essere il campo chiave. Chiamare il dizionario\n",
        "capoluoghiRegione"
      ]
    },
    {
      "cell_type": "code",
      "metadata": {
        "id": "imkT4V2twlpq",
        "colab": {
          "base_uri": "https://localhost:8080/"
        },
        "outputId": "60f89f96-3d5b-48d7-9ab6-ad33af1467e7"
      },
      "source": [
        "capoluoghiRegione = {'Valle d Aosta': 'Aosta', 'Abruzzo': 'Aquila', 'Basilicata' : 'Potenza',' Piemonte':'Torino', 'Liguria':'Genova',' Lombardia':'Milano',' Trentino Alto Adige' :'Trento', 'Veneto':'Venezia','Friuli Venezia Giulia':'Trieste', 'Emilia Romagna':'Bologna','Toscana':\t'Firenze','Umbria':\t'Perugia',' Marche':\t'Ancona','Lazio':\t'Roma','Molise':'Campobasso','Campania':'Napoli','Puglia':\t'Bari','Calabria'\t:'Catanzaro','Sicilia': 'Palermo', 'Sardegna':'Cagliari'}\n",
        "print(capoluoghiRegione)"
      ],
      "execution_count": null,
      "outputs": [
        {
          "output_type": "stream",
          "name": "stdout",
          "text": [
            "{'Valle d Aosta': 'Aosta', 'Abruzzo': 'Aquila', 'Basilicata': 'Potenza', ' Piemonte': 'Torino', 'Liguria': 'Genova', ' Lombardia': 'Milano', ' Trentino Alto Adige': 'Trento', 'Veneto': 'Venezia', 'Friuli Venezia Giulia': 'Trieste', 'Emilia Romagna': 'Bologna', 'Toscana': 'Firenze', 'Umbria': 'Perugia', ' Marche': 'Ancona', 'Lazio': 'Roma', 'Molise': 'Campobasso', 'Campania': 'Napoli', 'Puglia': 'Bari', 'Calabria': 'Catanzaro', 'Sicilia': 'Palermo', 'Sardegna': 'Cagliari'}\n"
          ]
        }
      ]
    },
    {
      "cell_type": "markdown",
      "metadata": {
        "id": "EYdid3lJ1-Jp"
      },
      "source": [
        "2. Scrivere un programma che visualizzi tutti i nomi delle regioni presenti in capoluoghiRegione"
      ]
    },
    {
      "cell_type": "code",
      "metadata": {
        "colab": {
          "base_uri": "https://localhost:8080/"
        },
        "id": "O-RRCaUU1_mZ",
        "outputId": "acd5b51c-bbb0-4aa2-e5ce-5c7ad78026e2"
      },
      "source": [
        "regioni = {a for a in capoluoghiRegione.keys()}\n",
        "print(regioni)"
      ],
      "execution_count": null,
      "outputs": [
        {
          "output_type": "stream",
          "name": "stdout",
          "text": [
            "{'Umbria', ' Lombardia', 'Sardegna', 'Friuli Venezia Giulia', ' Marche', 'Sicilia', 'Abruzzo', 'Calabria', 'Lazio', ' Trentino Alto Adige', 'Campania', 'Puglia', 'Valle d Aosta', 'Veneto', 'Liguria', 'Emilia Romagna', 'Molise', 'Toscana', ' Piemonte', 'Basilicata'}\n"
          ]
        }
      ]
    },
    {
      "cell_type": "markdown",
      "metadata": {
        "id": "UbokkN6D3Lqw"
      },
      "source": [
        "Scrivere un programma che visualizzi tutti i nomi dei capoluoghi di regione presenti in\n",
        "capoluoghiRegione"
      ]
    },
    {
      "cell_type": "code",
      "metadata": {
        "colab": {
          "base_uri": "https://localhost:8080/"
        },
        "id": "iw9Njl1P3Mxg",
        "outputId": "b7f43811-9392-45cd-cd14-327edf64a422"
      },
      "source": [
        "capoluoghi = {b for b in capoluoghiRegione.values()}\n",
        "print(capoluoghi)"
      ],
      "execution_count": null,
      "outputs": [
        {
          "output_type": "stream",
          "name": "stdout",
          "text": [
            "{'Bari', 'Torino', 'Catanzaro', 'Firenze', 'Aquila', 'Bologna', 'Trento', 'Aosta', 'Milano', 'Perugia', 'Campobasso', 'Venezia', 'Palermo', 'Ancona', 'Cagliari', 'Genova', 'Trieste', 'Napoli', 'Roma', 'Potenza'}\n"
          ]
        }
      ]
    },
    {
      "cell_type": "markdown",
      "metadata": {
        "id": "wZmQa-gt3M7g"
      },
      "source": [
        "Scrivere un programma che acquisisca dall’utente il nome di una regione e fornisca il nome del suo\n",
        "capoluogo."
      ]
    },
    {
      "cell_type": "code",
      "metadata": {
        "colab": {
          "base_uri": "https://localhost:8080/"
        },
        "id": "DpaSalsa3PfQ",
        "outputId": "e12df7b4-170f-401d-8a6c-8c0cdb3c53f6"
      },
      "source": [
        "c = (input(\"inserire la regione:\"))\n",
        "print(capoluoghiRegione[c])"
      ],
      "execution_count": null,
      "outputs": [
        {
          "output_type": "stream",
          "name": "stdout",
          "text": [
            "inserire la regione:Campania\n",
            "Napoli\n"
          ]
        }
      ]
    },
    {
      "cell_type": "markdown",
      "metadata": {
        "id": "u2XhORKI3RkA"
      },
      "source": [
        "Scrivere un programma che acquisisca dall’utente il nome di un capoluogo e fornisca il nome della\n",
        "regione a cui appartiene."
      ]
    },
    {
      "cell_type": "code",
      "metadata": {
        "id": "wyZ9FRWU3UcI"
      },
      "source": [
        "d = (input(\"inserisci il capoluogo:\"))\n",
        "get(b)\n"
      ],
      "execution_count": null,
      "outputs": []
    },
    {
      "cell_type": "markdown",
      "metadata": {
        "id": "1Dgq82j63U8g"
      },
      "source": [
        "Scrivere un programma che visualizzi tutte le regioni con i rispettivi capoluoghi"
      ]
    },
    {
      "cell_type": "code",
      "metadata": {
        "colab": {
          "base_uri": "https://localhost:8080/"
        },
        "id": "2z10ysFW3ZtY",
        "outputId": "3b87fc38-ad20-4d36-f8e6-5e4a2f1252e1"
      },
      "source": [
        "print(capoluoghiRegione)"
      ],
      "execution_count": null,
      "outputs": [
        {
          "output_type": "stream",
          "name": "stdout",
          "text": [
            "{'Valle d Aosta': 'Aosta', 'Abruzzo': 'Aquila', 'Basilicata': 'Potenza', ' Piemonte': 'Torino', 'Liguria': 'Genova', ' Lombardia': 'Milano', ' Trentino Alto Adige': 'Trento', 'Veneto': 'Venezia', 'Friuli Venezia Giulia': 'Trieste', 'Emilia Romagna': 'Bologna', 'Toscana': 'Firenze', 'Umbria': 'Perugia', ' Marche': 'Ancona', 'Lazio': 'Roma', 'Molise': 'Campobasso', 'Campania': 'Napoli', 'Puglia': 'Bari', 'Calabria': 'Catanzaro', 'Sicilia': 'Palermo', 'Sardegna': 'Cagliari'}\n"
          ]
        }
      ]
    },
    {
      "cell_type": "markdown",
      "metadata": {
        "id": "LiYpPAOB3bVA"
      },
      "source": [
        "Scrivere un programma che visualizzi tutte le regioni con i rispettivi capoluoghi. Ordinare le regioni\n",
        "in ordine alfabetico"
      ]
    },
    {
      "cell_type": "code",
      "metadata": {
        "id": "gKkQpIAq3b4w"
      },
      "source": [
        ""
      ],
      "execution_count": null,
      "outputs": []
    },
    {
      "cell_type": "markdown",
      "metadata": {
        "id": "DA7lh-_e3ePn"
      },
      "source": [
        "Scrivere un programma che visualizzi tutte le regioni con i rispettivi capoluoghi. Ordinare i\n",
        "capoluoghi in ordine alfabetico"
      ]
    },
    {
      "cell_type": "code",
      "metadata": {
        "id": "udqgdL_V3fMP",
        "colab": {
          "base_uri": "https://localhost:8080/"
        },
        "outputId": "d5628767-a701-47ae-bace-ca9f21b5e9ac"
      },
      "source": [
        "res = sorted(capoluoghiRegione.items(), key=lambda val: val[1])\n",
        "\n",
        "for name in res:\n",
        "  print(name[1] + \" | \" + name[0])\n"
      ],
      "execution_count": null,
      "outputs": [
        {
          "output_type": "stream",
          "name": "stdout",
          "text": [
            "Ancona |  Marche\n",
            "Aosta | Valle d Aosta\n",
            "Aquila | Abruzzo\n",
            "Bari | Puglia\n",
            "Bologna | Emilia Romagna\n",
            "Cagliari | Sardegna\n",
            "Campobasso | Molise\n",
            "Catanzaro | Calabria\n",
            "Firenze | Toscana\n",
            "Genova | Liguria\n",
            "Milano |  Lombardia\n",
            "Napoli | Campania\n",
            "Palermo | Sicilia\n",
            "Perugia | Umbria\n",
            "Potenza | Basilicata\n",
            "Roma | Lazio\n",
            "Torino |  Piemonte\n",
            "Trento |  Trentino Alto Adige\n",
            "Trieste | Friuli Venezia Giulia\n",
            "Venezia | Veneto\n"
          ]
        }
      ]
    },
    {
      "cell_type": "markdown",
      "metadata": {
        "id": "C8j8R6YH3iLX"
      },
      "source": [
        "Scrivere un programma che carichi in una lista i nomi delle regioni e in un’altra lista i nomi dei\n",
        "rispettivi capoluoghi. Scrivere poi l’istruzione che permette di costruire il dizionario a partire dalle\n",
        "due liste."
      ]
    },
    {
      "cell_type": "code",
      "metadata": {
        "id": "96MKMjLI3i8A",
        "colab": {
          "base_uri": "https://localhost:8080/"
        },
        "outputId": "d58e6aaf-8045-4efd-c364-8cb17992524b"
      },
      "source": [
        "regioni = [regioni for regioni in capoluoghiRegione.keys()]\n",
        "capoluoghi = [capoluoghi for capoluoghi in capoluoghiRegione.values()]\n",
        "\n",
        "res = dict(zip(regioni, capoluoghi))\n",
        "print(res)\n"
      ],
      "execution_count": null,
      "outputs": [
        {
          "output_type": "stream",
          "name": "stdout",
          "text": [
            "{'Valle d Aosta': 'Aosta', 'Abruzzo': 'Aquila', 'Basilicata': 'Potenza', ' Piemonte': 'Torino', 'Liguria': 'Genova', ' Lombardia': 'Milano', ' Trentino Alto Adige': 'Trento', 'Veneto': 'Venezia', 'Friuli Venezia Giulia': 'Trieste', 'Emilia Romagna': 'Bologna', 'Toscana': 'Firenze', 'Umbria': 'Perugia', ' Marche': 'Ancona', 'Lazio': 'Roma', 'Molise': 'Campobasso', 'Campania': 'Napoli', 'Puglia': 'Bari', 'Calabria': 'Catanzaro', 'Sicilia': 'Palermo', 'Sardegna': 'Cagliari'}\n"
          ]
        }
      ]
    }
  ]
}