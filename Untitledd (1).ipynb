{
  "nbformat": 4,
  "nbformat_minor": 0,
  "metadata": {
    "colab": {
      "name": "Untitledd.ipynb",
      "provenance": []
    },
    "kernelspec": {
      "name": "python3",
      "display_name": "Python 3"
    },
    "language_info": {
      "name": "python"
    }
  },
  "cells": [
    {
      "cell_type": "markdown",
      "metadata": {
        "id": "LupTQJ7CqPnm"
      },
      "source": [
        "1 Scrivere un programma che crei una lista contenente i nomi dei capoluoghi delle regioni italiane e che visualizzi la lista. Chiamare la lista capoluoghiRegione"
      ]
    },
    {
      "cell_type": "code",
      "metadata": {
        "colab": {
          "base_uri": "https://localhost:8080/"
        },
        "id": "qyFoI7r1qSxF",
        "outputId": "41ddbbad-7987-4b4b-8adc-513bcc36624e"
      },
      "source": [
        "capoluoghiRegione = ['Roma','Catanzaro','Bologna','Trieste','Potenza','Torino','Genova','Cagliari','Ancona','Campobasso','Milano','Bari','Palermo','Napoli','Firenze','Aquila','Trento','Perugia','Aosta','Venezia']\n",
        "for lista in capoluoghiRegione:\n",
        "  print(lista)"
      ],
      "execution_count": null,
      "outputs": [
        {
          "output_type": "stream",
          "name": "stdout",
          "text": [
            "Roma\n",
            "Catanzaro\n",
            "Bologna\n",
            "Trieste\n",
            "Potenza\n",
            "Torino\n",
            "Genova\n",
            "Cagliari\n",
            "Ancona\n",
            "Campobasso\n",
            "Milano\n",
            "Bari\n",
            "Palermo\n",
            "Napoli\n",
            "Firenze\n",
            "Aquila\n",
            "Trento\n",
            "Perugia\n",
            "Aosta\n",
            "Venezia\n"
          ]
        }
      ]
    },
    {
      "cell_type": "markdown",
      "metadata": {
        "id": "epL4o0LuqUxX"
      },
      "source": [
        "Scrivere un programma che visualizzi i primi 6 capoluoghi di regione presenti in capoluoghiRegione"
      ]
    },
    {
      "cell_type": "code",
      "metadata": {
        "colab": {
          "base_uri": "https://localhost:8080/"
        },
        "id": "iE7NY7HHqVSM",
        "outputId": "bfcf5e6c-c36c-4b6e-d9ed-74afd11a08ad"
      },
      "source": [
        "print(capoluoghiRegione[0:6])"
      ],
      "execution_count": null,
      "outputs": [
        {
          "output_type": "stream",
          "name": "stdout",
          "text": [
            "['Roma', 'Catanzaro', 'Bologna', 'Trieste', 'Potenza', 'Torino']\n"
          ]
        }
      ]
    },
    {
      "cell_type": "markdown",
      "metadata": {
        "id": "NPDiSulvqaS6"
      },
      "source": [
        "Scrivere un programma che visualizzi gli ultimi 6 capoluoghi di regione presenti in capoluoghiRegione"
      ]
    },
    {
      "cell_type": "code",
      "metadata": {
        "colab": {
          "base_uri": "https://localhost:8080/"
        },
        "id": "8qQCZ5OFqcja",
        "outputId": "9cbe0958-666c-4ed3-9c94-5f1ac28e4e7f"
      },
      "source": [
        "print(capoluoghiRegione[14:20])"
      ],
      "execution_count": null,
      "outputs": [
        {
          "output_type": "stream",
          "name": "stdout",
          "text": [
            "['Firenze', 'Aquila', 'Trento', 'Perugia', 'Aosta', 'Venezia']\n"
          ]
        }
      ]
    },
    {
      "cell_type": "markdown",
      "metadata": {
        "id": "-rqaE84-qfJp"
      },
      "source": [
        "Scrivere un programma che visualizzi i 6 capoluoghi di regione presenti nella parte centrale di capoluoghiRegione"
      ]
    },
    {
      "cell_type": "code",
      "metadata": {
        "colab": {
          "base_uri": "https://localhost:8080/"
        },
        "id": "h5IMDIWQqhBj",
        "outputId": "9addd031-d585-427f-b799-1dfa0f828f9f"
      },
      "source": [
        "print(capoluoghiRegione[7:13])"
      ],
      "execution_count": null,
      "outputs": [
        {
          "output_type": "stream",
          "name": "stdout",
          "text": [
            "['Cagliari', 'Ancona', 'Campobasso', 'Milano', 'Bari', 'Palermo']\n"
          ]
        }
      ]
    },
    {
      "cell_type": "markdown",
      "metadata": {
        "id": "GjVIPaaAqi8-"
      },
      "source": [
        "Scrivere un programma che visualizzi i capoluoghi di regione presenti in capoluoghiRegione nelle posizioni pari."
      ]
    },
    {
      "cell_type": "code",
      "metadata": {
        "colab": {
          "base_uri": "https://localhost:8080/"
        },
        "id": "ma1JQpGvqnIQ",
        "outputId": "48bc773c-3a53-4521-d146-7edb8c6ed56b"
      },
      "source": [
        "print(capoluoghiRegione[:20:2])"
      ],
      "execution_count": null,
      "outputs": [
        {
          "output_type": "stream",
          "name": "stdout",
          "text": [
            "['Roma', 'Bologna', 'Potenza', 'Genova', 'Ancona', 'Milano', 'Palermo', 'Firenze', 'Trento', 'Aosta']\n"
          ]
        }
      ]
    },
    {
      "cell_type": "markdown",
      "metadata": {
        "id": "pXgWBPFEqppy"
      },
      "source": [
        "Scrivere un programma che visualizzi i capoluoghi di regione presenti in capoluoghiRegione nelle posizioni dispari."
      ]
    },
    {
      "cell_type": "code",
      "metadata": {
        "colab": {
          "base_uri": "https://localhost:8080/"
        },
        "id": "oDCidBYDqqR4",
        "outputId": "51e251a8-a095-4362-8bc7-9110f2ac0202"
      },
      "source": [
        "print(capoluoghiRegione[1::2])"
      ],
      "execution_count": null,
      "outputs": [
        {
          "output_type": "stream",
          "name": "stdout",
          "text": [
            "['Catanzaro', 'Trieste', 'Torino', 'Cagliari', 'Campobasso', 'Bari', 'Napoli', 'Aquila', 'Perugia', 'Venezia']\n"
          ]
        }
      ]
    },
    {
      "cell_type": "markdown",
      "metadata": {
        "id": "OzsgWPPWqtaV"
      },
      "source": [
        "Scrivere un programma che permetta ad un utente di inserire il nome di una città è risponda True se quella città è un capoluogo di regione, False altrimenti."
      ]
    },
    {
      "cell_type": "code",
      "metadata": {
        "colab": {
          "base_uri": "https://localhost:8080/"
        },
        "id": "J0w0T0KIqt_6",
        "outputId": "82874dd0-71f3-4800-9f11-9c39a19d23f3"
      },
      "source": [
        "capoluoghiRegione.sort()\n",
        "verifica = str(input(\"nome della città da verificare:\"))\n",
        "print(verifica in capoluoghiRegione)"
      ],
      "execution_count": null,
      "outputs": [
        {
          "output_type": "stream",
          "name": "stdout",
          "text": [
            "nome della città da verificare:Ancona\n",
            "True\n"
          ]
        }
      ]
    },
    {
      "cell_type": "markdown",
      "metadata": {
        "id": "yhPGcvidq1Tt"
      },
      "source": [
        "Scrivere un programma che visualizzi il primo capoluogo di regione in ordine alfabetico"
      ]
    },
    {
      "cell_type": "code",
      "metadata": {
        "colab": {
          "base_uri": "https://localhost:8080/"
        },
        "id": "dK9nMNg-rD2V",
        "outputId": "4acda449-4762-4dee-842d-8959abc78324"
      },
      "source": [
        "capoluoghiRegione.sort()\n",
        "print(capoluoghiRegione[0])"
      ],
      "execution_count": null,
      "outputs": [
        {
          "output_type": "stream",
          "name": "stdout",
          "text": [
            "Ancona\n"
          ]
        }
      ]
    },
    {
      "cell_type": "markdown",
      "metadata": {
        "id": "Yo3CvEA5rW3V"
      },
      "source": [
        "Scrivere un programma che visualizzi i capoluoghi in ordine alfabetico"
      ]
    },
    {
      "cell_type": "code",
      "metadata": {
        "colab": {
          "base_uri": "https://localhost:8080/"
        },
        "id": "iuAbCwairZE9",
        "outputId": "7a5db39b-17e6-4452-c66f-8882038efd09"
      },
      "source": [
        "capoluoghiRegione.sort()\n",
        "print(capoluoghiRegione)"
      ],
      "execution_count": null,
      "outputs": [
        {
          "output_type": "stream",
          "name": "stdout",
          "text": [
            "['Ancona', 'Aosta', 'Aquila', 'Bari', 'Bologna', 'Cagliari', 'Campobasso', 'Catanzaro', 'Firenze', 'Genova', 'Milano', 'Napoli', 'Palermo', 'Perugia', 'Potenza', 'Roma', 'Torino', 'Trento', 'Trieste', 'Venezia']\n"
          ]
        }
      ]
    },
    {
      "cell_type": "markdown",
      "metadata": {
        "id": "hNn5T1Q7rbkq"
      },
      "source": [
        "Scrivere un programma che visualizzi i capoluoghi in ordine alfabetico inverso (dalla Z alla A)"
      ]
    },
    {
      "cell_type": "code",
      "metadata": {
        "colab": {
          "base_uri": "https://localhost:8080/"
        },
        "id": "3yderfqjrdZq",
        "outputId": "2b4af857-89ba-4d00-b5ad-40c9b74a0237"
      },
      "source": [
        "capoluoghiRegione.sort(reverse=True)\n",
        "print(capoluoghiRegione)"
      ],
      "execution_count": null,
      "outputs": [
        {
          "output_type": "stream",
          "name": "stdout",
          "text": [
            "['Venezia', 'Trieste', 'Trento', 'Torino', 'Roma', 'Potenza', 'Perugia', 'Palermo', 'Napoli', 'Milano', 'Genova', 'Firenze', 'Catanzaro', 'Campobasso', 'Cagliari', 'Bologna', 'Bari', 'Aquila', 'Aosta', 'Ancona']\n"
          ]
        }
      ]
    },
    {
      "cell_type": "markdown",
      "metadata": {
        "id": "7lQIPsPJrh13"
      },
      "source": [
        "Scrivere un programma che visualizzi i capoluoghi in ordine sulla base della lunghezza del nome (da quello più corto a quello più lungo)"
      ]
    },
    {
      "cell_type": "code",
      "metadata": {
        "id": "IZMu7ZS_riW7"
      },
      "source": [
        "capoluoghiRegione.sort(key=len)\n",
        "print(capoluoghiRegione)"
      ],
      "execution_count": null,
      "outputs": []
    },
    {
      "cell_type": "markdown",
      "metadata": {
        "id": "oWpCBDeurmoa"
      },
      "source": [
        "Scrivere un programma che copi la lista capoluoghiRegione nella lista capoluoghiRegione2 e che elimini dalla prima lista il primo e l’ultimo elemento. Al termine, visualizzare le due liste una sotto l’altra per verificare che effettivamente siano stati eliminati gli elementi della lista originale."
      ]
    },
    {
      "cell_type": "code",
      "metadata": {
        "colab": {
          "base_uri": "https://localhost:8080/"
        },
        "id": "Y1kjlb14rpD6",
        "outputId": "d0b6a455-6ce5-4614-c06d-d8c5cd701005"
      },
      "source": [
        "capoluoghiRegione2 = capoluoghiRegione\n",
        "print(capoluoghiRegione)\n",
        "capoluoghiRegione2.pop()\n",
        "capoluoghiRegione2.pop(0)\n",
        "print(capoluoghiRegione2)"
      ],
      "execution_count": null,
      "outputs": [
        {
          "output_type": "stream",
          "name": "stdout",
          "text": [
            "['Venezia', 'Trieste', 'Trento', 'Torino', 'Roma', 'Potenza', 'Perugia', 'Palermo', 'Napoli', 'Milano', 'Genova', 'Firenze', 'Catanzaro', 'Campobasso', 'Cagliari', 'Bologna', 'Bari', 'Aquila', 'Aosta', 'Ancona']\n",
            "['Trieste', 'Trento', 'Torino', 'Roma', 'Potenza', 'Perugia', 'Palermo', 'Napoli', 'Milano', 'Genova', 'Firenze', 'Catanzaro', 'Campobasso', 'Cagliari', 'Bologna', 'Bari', 'Aquila', 'Aosta']\n"
          ]
        }
      ]
    },
    {
      "cell_type": "markdown",
      "metadata": {
        "id": "HHnYdwvHrtNk"
      },
      "source": [
        "Scrivere un programma che, con una sola istruzione, carichi una lista con i primi 100 numeri interi. Chiamare la lista numeriInteri. Al termine, visualizzare la lista."
      ]
    },
    {
      "cell_type": "code",
      "metadata": {
        "colab": {
          "base_uri": "https://localhost:8080/"
        },
        "id": "3IPXkUv4rtyA",
        "outputId": "79a2a96f-aaf1-40bd-ac25-3cfed0cf584d"
      },
      "source": [
        "numeriInteri = [i for i in range(0,100)]\n",
        "print(numeriInteri)"
      ],
      "execution_count": null,
      "outputs": [
        {
          "output_type": "stream",
          "name": "stdout",
          "text": [
            "[0, 1, 2, 3, 4, 5, 6, 7, 8, 9, 10, 11, 12, 13, 14, 15, 16, 17, 18, 19, 20, 21, 22, 23, 24, 25, 26, 27, 28, 29, 30, 31, 32, 33, 34, 35, 36, 37, 38, 39, 40, 41, 42, 43, 44, 45, 46, 47, 48, 49, 50, 51, 52, 53, 54, 55, 56, 57, 58, 59, 60, 61, 62, 63, 64, 65, 66, 67, 68, 69, 70, 71, 72, 73, 74, 75, 76, 77, 78, 79, 80, 81, 82, 83, 84, 85, 86, 87, 88, 89, 90, 91, 92, 93, 94, 95, 96, 97, 98, 99]\n"
          ]
        }
      ]
    },
    {
      "cell_type": "markdown",
      "metadata": {
        "id": "HO7iUq_brw7f"
      },
      "source": [
        "Scrivere un programma che permetta all’utente di inserire in una lista 10 numeri interi, elimini i duplicati e visualizzi la lista senza duplicati. Chiamare la lista numeriInteri.\n",
        "\n"
      ]
    }
  ]
}